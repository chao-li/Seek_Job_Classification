{
 "cells": [
  {
   "cell_type": "code",
   "execution_count": 41,
   "metadata": {},
   "outputs": [],
   "source": [
    "import requests\n",
    "from bs4 import BeautifulSoup\n",
    "import re\n",
    "import pandas as pd\n",
    "import numpy as np\n",
    "import urllib.request, urllib.parse, urllib.error\n",
    "# import\n",
    "from selenium import webdriver\n",
    "from selenium.webdriver.common.by import By"
   ]
  },
  {
   "cell_type": "markdown",
   "metadata": {},
   "source": [
    "## Search: Data | Location: Victoria | 100,000 +"
   ]
  },
  {
   "cell_type": "code",
   "execution_count": 224,
   "metadata": {},
   "outputs": [],
   "source": [
    "driver = webdriver.Chrome(executable_path=\"/Users/clidev/Desktop/chromedriver\")\n",
    "driver.get('https://au.indeed.com/jobs?q=data+%24100%2C000&l=Australia')"
   ]
  },
  {
   "cell_type": "code",
   "execution_count": 225,
   "metadata": {},
   "outputs": [],
   "source": [
    "html = driver.page_source"
   ]
  },
  {
   "cell_type": "code",
   "execution_count": 226,
   "metadata": {},
   "outputs": [],
   "source": [
    "soup = BeautifulSoup(html, 'lxml')"
   ]
  },
  {
   "cell_type": "code",
   "execution_count": 227,
   "metadata": {},
   "outputs": [],
   "source": [
    "cards = soup.find_all('div', {'class': re.compile('clickcard')})"
   ]
  },
  {
   "cell_type": "code",
   "execution_count": 234,
   "metadata": {},
   "outputs": [],
   "source": [
    "def log_progress(sequence, every=None, size=None, name='Items'):\n",
    "    from ipywidgets import IntProgress, HTML, VBox\n",
    "    from IPython.display import display\n",
    "\n",
    "    is_iterator = False\n",
    "    if size is None:\n",
    "        try:\n",
    "            size = len(sequence)\n",
    "        except TypeError:\n",
    "            is_iterator = True\n",
    "    if size is not None:\n",
    "        if every is None:\n",
    "            if size <= 200:\n",
    "                every = 1\n",
    "            else:\n",
    "                every = int(size / 200)     # every 0.5%\n",
    "    else:\n",
    "        assert every is not None, 'sequence is iterator, set every'\n",
    "\n",
    "    if is_iterator:\n",
    "        progress = IntProgress(min=0, max=1, value=1)\n",
    "        progress.bar_style = 'info'\n",
    "    else:\n",
    "        progress = IntProgress(min=0, max=size, value=0)\n",
    "    label = HTML()\n",
    "    box = VBox(children=[label, progress])\n",
    "    display(box)\n",
    "\n",
    "    index = 0\n",
    "    try:\n",
    "        for index, record in enumerate(sequence, 1):\n",
    "            if index == 1 or index % every == 0:\n",
    "                if is_iterator:\n",
    "                    label.value = '{name}: {index} / ?'.format(\n",
    "                        name=name,\n",
    "                        index=index\n",
    "                    )\n",
    "                else:\n",
    "                    progress.value = index\n",
    "                    label.value = u'{name}: {index} / {size}'.format(\n",
    "                        name=name,\n",
    "                        index=index,\n",
    "                        size=size\n",
    "                    )\n",
    "            yield record\n",
    "    except:\n",
    "        progress.bar_style = 'danger'\n",
    "        raise\n",
    "    else:\n",
    "        progress.bar_style = 'success'\n",
    "        progress.value = index\n",
    "        label.value = \"{name}: {index}\".format(\n",
    "            name=name,\n",
    "            index=str(index or '?')\n",
    "        )"
   ]
  },
  {
   "cell_type": "markdown",
   "metadata": {},
   "source": [
    "### Create a list of url for the pages to cycle through"
   ]
  },
  {
   "cell_type": "code",
   "execution_count": 260,
   "metadata": {},
   "outputs": [],
   "source": [
    "page_list = ['https://au.indeed.com/data-$100,000-jobs-in-Australia']"
   ]
  },
  {
   "cell_type": "code",
   "execution_count": 261,
   "metadata": {},
   "outputs": [],
   "source": [
    "for i in range(0,251):\n",
    "    page_list.append('https://au.indeed.com/jobs?q=data+%24100%2C000&l=Australia&start=' + str(i * 10))"
   ]
  },
  {
   "cell_type": "code",
   "execution_count": 262,
   "metadata": {},
   "outputs": [
    {
     "data": {
      "text/plain": [
       "252"
      ]
     },
     "execution_count": 262,
     "metadata": {},
     "output_type": "execute_result"
    }
   ],
   "source": [
    "len(page_list)"
   ]
  },
  {
   "cell_type": "code",
   "execution_count": 263,
   "metadata": {},
   "outputs": [
    {
     "data": {
      "application/vnd.jupyter.widget-view+json": {
       "model_id": "74d613b58ce1435a88864942ffbf163f",
       "version_major": 2,
       "version_minor": 0
      },
      "text/plain": [
       "VBox(children=(HTML(value=''), IntProgress(value=0, max=252)))"
      ]
     },
     "metadata": {},
     "output_type": "display_data"
    }
   ],
   "source": [
    "urls = []\n",
    "for path in log_progress(page_list):\n",
    "    # load the page\n",
    "    page = requests.get(path)\n",
    "    soup = BeautifulSoup(page.content, 'html.parser')\n",
    "    \n",
    "    # grab list of all urls\n",
    "    for a in soup.find_all('a', {'data-tn-element': 'jobTitle'}):\n",
    "        if a.get('href') not in urls:\n",
    "            urls.append(a.get('href'))\n",
    "            \n",
    "    "
   ]
  },
  {
   "cell_type": "code",
   "execution_count": 264,
   "metadata": {},
   "outputs": [
    {
     "data": {
      "text/plain": [
       "2048"
      ]
     },
     "execution_count": 264,
     "metadata": {},
     "output_type": "execute_result"
    }
   ],
   "source": [
    "len(urls)"
   ]
  },
  {
   "cell_type": "code",
   "execution_count": 265,
   "metadata": {},
   "outputs": [],
   "source": [
    "import pandas as pd"
   ]
  },
  {
   "cell_type": "code",
   "execution_count": 266,
   "metadata": {},
   "outputs": [],
   "source": [
    "urls_df = pd.DataFrame(urls, columns = ['urls'])"
   ]
  },
  {
   "cell_type": "code",
   "execution_count": 275,
   "metadata": {},
   "outputs": [],
   "source": [
    "urls_df.to_csv('10000+ urls.csv')"
   ]
  },
  {
   "cell_type": "code",
   "execution_count": 217,
   "metadata": {},
   "outputs": [],
   "source": [
    "# gets a list of url on this page\n",
    "# urls = []\n",
    "# for a in soup.find_all('a', {'data-tn-element': 'jobTitle'}):\n",
    "#     urls.append(a.get('href'))"
   ]
  },
  {
   "cell_type": "markdown",
   "metadata": {},
   "source": [
    "## Search: Data | Location: Victoria | 60,000 +"
   ]
  },
  {
   "cell_type": "code",
   "execution_count": 268,
   "metadata": {},
   "outputs": [],
   "source": [
    "page_list60 = ['https://au.indeed.com/data-$60,000-jobs-in-Australia']"
   ]
  },
  {
   "cell_type": "code",
   "execution_count": 269,
   "metadata": {},
   "outputs": [],
   "source": [
    "for i in range(0,351):\n",
    "    page_list60.append('https://au.indeed.com/jobs?q=data+%2460%2C000&l=Australia&start=' + str(i * 10))"
   ]
  },
  {
   "cell_type": "code",
   "execution_count": 270,
   "metadata": {},
   "outputs": [
    {
     "data": {
      "text/plain": [
       "352"
      ]
     },
     "execution_count": 270,
     "metadata": {},
     "output_type": "execute_result"
    }
   ],
   "source": [
    "len(page_list60)"
   ]
  },
  {
   "cell_type": "code",
   "execution_count": 271,
   "metadata": {},
   "outputs": [
    {
     "data": {
      "application/vnd.jupyter.widget-view+json": {
       "model_id": "c8219577c90e4c01ab5c1defff1c5b7f",
       "version_major": 2,
       "version_minor": 0
      },
      "text/plain": [
       "VBox(children=(HTML(value=''), IntProgress(value=0, max=352)))"
      ]
     },
     "metadata": {},
     "output_type": "display_data"
    }
   ],
   "source": [
    "urls60 = []\n",
    "for path in log_progress(page_list60):\n",
    "    # load the page\n",
    "    page = requests.get(path)\n",
    "    soup = BeautifulSoup(page.content, 'html.parser')\n",
    "    \n",
    "    # grab list of all urls\n",
    "    for a in soup.find_all('a', {'data-tn-element': 'jobTitle'}):\n",
    "        if a.get('href') not in urls:\n",
    "            urls60.append(a.get('href'))"
   ]
  },
  {
   "cell_type": "code",
   "execution_count": 272,
   "metadata": {},
   "outputs": [],
   "source": [
    "urls60_df = pd.DataFrame(urls60, columns = ['urls'])"
   ]
  },
  {
   "cell_type": "code",
   "execution_count": 273,
   "metadata": {},
   "outputs": [
    {
     "data": {
      "text/plain": [
       "4159"
      ]
     },
     "execution_count": 273,
     "metadata": {},
     "output_type": "execute_result"
    }
   ],
   "source": [
    "len(urls60)"
   ]
  },
  {
   "cell_type": "code",
   "execution_count": 274,
   "metadata": {},
   "outputs": [],
   "source": [
    "urls60_df.to_csv('60000+ urls.csv')"
   ]
  },
  {
   "cell_type": "code",
   "execution_count": null,
   "metadata": {},
   "outputs": [],
   "source": []
  },
  {
   "cell_type": "code",
   "execution_count": null,
   "metadata": {},
   "outputs": [],
   "source": []
  },
  {
   "cell_type": "code",
   "execution_count": null,
   "metadata": {},
   "outputs": [],
   "source": []
  },
  {
   "cell_type": "code",
   "execution_count": 212,
   "metadata": {},
   "outputs": [],
   "source": [
    "# my method\n",
    "# Find all cards\n",
    "# cards = soup.find_all('div', {'class': re.compile('clickcard')})\n",
    "\n",
    "# # for each cards in card\n",
    "# links = []\n",
    "# for card in cards:\n",
    "#     for a in card.find_all('a'):\n",
    "#         link = a.get('href')\n",
    "        \n",
    "#         # filter out none\n",
    "#         if link != None:\n",
    "            \n",
    "#             # filter out /cmp/ and #\n",
    "#             if not link.startswith('/cmp/') and not link.startswith('#') and not link.startswith('/salaries/'):\n",
    "                \n",
    "#                 # filter out short strings\n",
    "#                 if len(link) > 50:\n",
    "#                     links.append(link)\n"
   ]
  },
  {
   "cell_type": "code",
   "execution_count": 213,
   "metadata": {},
   "outputs": [
    {
     "data": {
      "text/plain": [
       "16"
      ]
     },
     "execution_count": 213,
     "metadata": {},
     "output_type": "execute_result"
    }
   ],
   "source": [
    "len(links)"
   ]
  },
  {
   "cell_type": "code",
   "execution_count": 214,
   "metadata": {},
   "outputs": [],
   "source": []
  },
  {
   "cell_type": "code",
   "execution_count": 215,
   "metadata": {},
   "outputs": [
    {
     "data": {
      "text/plain": [
       "16"
      ]
     },
     "execution_count": 215,
     "metadata": {},
     "output_type": "execute_result"
    }
   ],
   "source": [
    "len(urls)"
   ]
  },
  {
   "cell_type": "code",
   "execution_count": 216,
   "metadata": {},
   "outputs": [
    {
     "data": {
      "text/plain": [
       "set()"
      ]
     },
     "execution_count": 216,
     "metadata": {},
     "output_type": "execute_result"
    }
   ],
   "source": [
    "set(links) - set(urls)"
   ]
  },
  {
   "cell_type": "code",
   "execution_count": 178,
   "metadata": {},
   "outputs": [],
   "source": [
    "# click on each links found\n",
    "\n",
    "test = \"//a[@href='\" + links[1] + \"']\"\n",
    "\n",
    "driver.find_element_by_xpath(test).click()"
   ]
  },
  {
   "cell_type": "code",
   "execution_count": 180,
   "metadata": {},
   "outputs": [
    {
     "data": {
      "text/plain": [
       "['/pagead/clk?mo=r&ad=-6NYlbfkN0CC3_2Rv_24Vq7Fmu5-hlnp5bitfzb08yUaNAdmmWA_0CpltNkOXBlOcwmZsMT5-Qctynbu6fsrHMMoTRVehlmJREo-mX9HtoMDavLi83AvXKB0eDD8h_sXftJAcXbnkuiySOdYvT_UU5M7t1pyMZ-QOlIsAlfFnLWZZ0UxoPPX9n8dSWKzLoJCRYnCMyxHxeMCBdrTuWop4JOz90Dn-NoX43Jz4TDJx-PgPxXS5QTYHwZfvA-m68TvFnohFZZP0CaoZEZVPMLU_-f3Lr7M8yTe-C7Q7fdcCZFFgEVu0OdkK-9rAR3M704tge9pDng9ivcNnPe9k9hm1CusallDoccsVxFutIBlef8s6QtYD2l-gLgJY9ueFnR6IJjDaoGFaMA0Jnn-adDUHrKR1fbnRSdu11AwinQabrjsbX_sESJzcDdkH1xw2EhnY6Zoj4V7wue7bb3XJ1e3bRKK2E7cx6PJ&vjs=3&p=1&sk=&fvj=0',\n",
       " '/pagead/clk?mo=r&ad=-6NYlbfkN0DXvAkv2JllT2-6orEwWutU55vlcgW0k0v1MGxx300Nn1lwtzjDzyHj4o55C-bs_Nr_hZcw6Xo12x5xR_ydgwHn0suB7paOlrXScue6fK1aQd3CBMj8Dh2eOkHHIBUPAmKTs2jGI0ruw3TdatJgD5V90KclFeFNfZjSUplt5ryhvQqKOYnTsjXXRIKKgUL9srKKD4T1mG9kgYWD-7_HHCC-Pw2Ve9gsHSaOciP2kT3D2bPNjsnKDyq3K7KeGUNszGfd0a0Musb-KK7dg8iVu3pdL5PVHmn6uvCkK6hBnpM_F3agDEml3oOR5_ANrU378sp3BQXmmkjjeP_uWso04fltIeF1X8yh_7X11NR2uAGQRy52P4cGTxSwcLf3IJRagCg2xHHrWjxWPfkPs25-aRN8RQe56y7_VChDYMSSxh6j0zsBLfVMXMKL3Te9NSzACr-sghlEBgKbyRtuqr4o8NoX&vjs=3&p=2&sk=&fvj=1',\n",
       " '/pagead/clk?mo=r&ad=-6NYlbfkN0CAHi8u6FO9xxBAQRa57vg7xLM-nwhTkUllwOBVIKrcgf5_-dMrjG3yklAwNQjkBsG2eGkprjFGSLt7Aok9CNAEOmBxYSZ35Wmu-lVpSs0VUPjVYKc2uIDH9VghrMACk3pg6SdLXQiszoY6llyiYzTO2WR9iJw92qL9DFeFtEsqn67ER7rbKegemfUmKOPngQb3E91-wmrSuXqsXB2yGYbnuzGVGq1QkDIOuoLWpRR5e6OJl00F66u4qWjvjH1PMv9-d4g-p-JuC8zoX46sDkuPk091c4e20du6pLUs0V7T2naD2glZSOwYEd4kdO6uZxXGmB0zyvqrTYGOJUb4YZmGCJLGys0QOPprAOQMord4zWzhruAelZ14lD1t2RpSKZkaq7_iq7drWbjksMsMHeR85wrk5OdjWnVNOSPhiiTIXX_lAylPEqOKLNnGHuYvndMabMgitLAjz5fzMBUtLUbVTXzRlGg2INU=&vjs=3&p=3&sk=&fvj=0',\n",
       " '/pagead/clk?mo=r&ad=-6NYlbfkN0AAD0KPVTPinCVtsDkDTdFLuW4zFyopNZCKBQOXeVUaTNzSBNFBtFW2OyiajpsKSbEHDi4uM5EuNzTqM02hbl34hIH6_KmD5WQYb1oxRFnSKJaT2kKIHwvjdpXXAorLmRvJdKn-V-uwQej9RovCd1z-JV7qmZOJaN7R0EOD83yFhH8SF_cQYvC79yCdWJyLmK34YDR1YVHLOdV8jfKw6i5LHCgwFvoVVlmTcF9u1goxc58Gud5iYkeSj7dbs8k2xnPKi0B_FhMCWuyNSdrrleBJrOHI00MQJJ1dzr_UBBbhLvEXMYRqlV19AhxjUhfPCT50vqlvTOJhArcTva13dKwPI7hVlpa4qdbgdxNhOWJiTeu_-y39DVJooEylbyssrqGgePLzb6oewOwh5Tw9c7QSAVMW9HSxkXF6s0eOlb4aEF2acMq4jwQztwvWUR9q3Y0=&vjs=3&p=4&sk=&fvj=1',\n",
       " '/pagead/clk?mo=r&ad=-6NYlbfkN0CupRqUKQ3UQMA6d95jAjxive_zEx7XsIS3ZsAp5X52OBasycPnV1Yiojb6683h2Zc3woCNGHJEdMdCqQ3IHXKylNdZw7QRaT6ERzB82vxbms9VrBSynH_nR_8p8T0oMo8A3AoE856jtGmBOYj1RVnhdewffbs-OD-tmjfAoXmyca7uy7b46XE8XBODA4GeKOss-dDoUPONDPgMf00YSS7TO_hUL380_8xOyM-C2Wu93l-5ipJK9qH5KnyBmd0fN7xbDv7ZO-OwnM8PdVBu2E0ZClmAlIgpOLd-LqAUtqpVwS6kuX7-3Nja3ygvonFqrZhPpRG46kGHyeaDvtjtCfkhzeD-HEgo7rR0uIaM58QgieDTSUmZNxYuL9jM4AebLguzJvzYQI_mpV2yyIWdKXjepZHnqFdshLUxVmksAu4VHkhZkmFuDVa8pN2AuKskJHk=&vjs=3&p=5&sk=&fvj=1',\n",
       " '/rc/clk?jk=779f7bd7d346ec1e&fccid=1818d10a60db56b4&vjs=3',\n",
       " '/rc/clk?jk=2aeb42249c3dbf2c&fccid=de71a49b535e21cb&vjs=3',\n",
       " '/rc/clk?jk=71d2af68a316547e&fccid=1818d10a60db56b4&vjs=3',\n",
       " '/rc/clk?jk=419f06c637860455&fccid=1818d10a60db56b4&vjs=3',\n",
       " '/rc/clk?jk=2ca7a2f51f260f39&fccid=d5b50c80ac752ce2&vjs=3',\n",
       " '/rc/clk?jk=31804c9d8c514c95&fccid=291d6c92a895f751&vjs=3',\n",
       " '/company/IT-Alliance-Australia/jobs/Big-Data-Tester-c57d6d707a49463e?fccid=15c48d9f36fa370b&vjs=3',\n",
       " '/rc/clk?jk=bead4dfb0968e717&fccid=32277d92eb8a3eca&vjs=3',\n",
       " '/rc/clk?jk=8737cfe7a3f91478&fccid=0d742c8f7b000ca1&vjs=3',\n",
       " '/company/DoScouting/jobs/Sport-Data-Journalist-06afb89f1611737f?fccid=1e75cac487572b89&vjs=3',\n",
       " '/pagead/clk?mo=r&ad=-6NYlbfkN0Dc1nOqXGa-3qOUOaZIQYmDRcsTd8B0qa6SPVar1bCBooFw_mzDk-mHXNrD3rul6gY8aSr38Eb2l0DomKaL3XuqlCNb8bLpeEJKdptIDnbfkhjDcqyfX6kEnQQsocRntGnqfAmlaUBPY76GOjIrs_nWNb4fhyfiUGN9LUO02tWr9-dfOF4YnCQra-VDk31lI6o6nHyW8GSh5XnIjx5zJKb4XKnmUUJL8ms4XPqoZQUEE4jBF8lEvB5moml2S_nM1nTJrA1k30Lmzm-G_ihr5_4hjnuvXmISv-ARp9Z7jDTbCOXzGx90u91atQZk6UsTqzxbG7-bQMeevSyCV9M0_xg6bqZrKP3-qqyIUd6J-3CIjmHIhbiNPlNtp-TyifF1JRTZ-pAw83JnkH5wgdjE41y0Q1J7uMsj0EQd6DF-6lT5Jw==&vjs=3&p=6&sk=&fvj=0',\n",
       " '/pagead/clk?mo=r&ad=-6NYlbfkN0BdoFW-pgk8qz2lidFvI161WPflgHq6k1T1xIfgNTQtPg_9IFmpGIzfqxFOO5veoNe8dfaFsntwDTWhumcQLR2W-Cr3WsDkVZGiAWA7f5_yOgeYrCcR8KoSNd9ICJOa3FmXZPe9ZYJaUc5dWHqhtFkz6BsEWvITPdaFKXDv2VlzBU7UfEPkPJu1-m-8R3rqhXkFUJkpPV20pcakeLc0CxJuyfivROSiIaJw2m8Laxbx4oWiJ-_j0YIB0iKngLf4m-x-62z53C7ZXhVjTMfsTkvSphCTrl_s3AdYVgGlnhKaYuu1-EqIuLg27kjqaCUvUCUtavd5BuoKu4R9efWS_tCp8zmK0PHEhfJlxbID9oynoX7FZXRbc5mQROLCLzzMFQvvU6kZeKbRozz7G2Xn4nF11TelU1WisCkD38TpaY-e63X9TwdtXIfz-wzh9lq1JBiNmK5tdpxXS6BhlzZ45q_itevV6d1ymQD-xuE7gHj72rDHgnNVN60l9ux2bBHx_oM=&vjs=3&p=7&sk=&fvj=0']"
      ]
     },
     "execution_count": 180,
     "metadata": {},
     "output_type": "execute_result"
    }
   ],
   "source": [
    "links"
   ]
  },
  {
   "cell_type": "code",
   "execution_count": 179,
   "metadata": {},
   "outputs": [],
   "source": [
    "driver.find_element_by_xpath(\"//*[@id='vjs-x']/a\").click()"
   ]
  },
  {
   "cell_type": "code",
   "execution_count": null,
   "metadata": {},
   "outputs": [],
   "source": [
    "\"//a[@svg='/rc/clk?jk=779f7bd7d346ec1e&fccid=1818d10a60db56b4&vjs=3']\""
   ]
  },
  {
   "cell_type": "code",
   "execution_count": 171,
   "metadata": {},
   "outputs": [
    {
     "data": {
      "text/plain": [
       "\"//a[@href='/rc/clk?jk=779f7bd7d346ec1e&fccid=1818d10a60db56b4&vjs=3']\""
      ]
     },
     "execution_count": 171,
     "metadata": {},
     "output_type": "execute_result"
    }
   ],
   "source": [
    "\"//a[@href='\" + links[4] + \"']\""
   ]
  },
  {
   "cell_type": "code",
   "execution_count": 118,
   "metadata": {},
   "outputs": [
    {
     "name": "stdout",
     "output_type": "stream",
     "text": [
      "#jobPostingsAnchor\n",
      "\n",
      "\n",
      "#what\n",
      "\n",
      "\n",
      "None\n",
      "\n",
      "\n",
      "/\n",
      "\n",
      "\n",
      "/companies\n",
      "\n",
      "\n",
      "/salaries\n",
      "\n",
      "\n",
      "http://www.indeed.com/resumes?co=AU&sp=0&isid=find-resumes-AU&ikw=SERPtop&hl=en\n",
      "\n",
      "\n",
      "/hire?hl=en&cc=AU\n",
      "\n",
      "\n",
      "/promo/resume\n",
      "\n",
      "\n",
      "https://au.indeed.com/account/login?dest=%2Fjobs%3Fq%3Ddata%2B%2460%2C000%26l%3DVictoria\n",
      "\n",
      "\n",
      "/\n",
      "\n",
      "\n",
      "/advanced_search?q=data+%2460%2C000&l=Victoria\n",
      "\n",
      "\n",
      "/jobs?q=data+%2460%2C000&l=Victoria&sort=date\n",
      "\n",
      "\n",
      "/data-jobs-in-Victoria\n",
      "\n",
      "\n",
      "/jobs?q=data+$60,000&l=Victoria&jt=fulltime\n",
      "\n",
      "\n",
      "/jobs?q=data+$60,000&l=Victoria&jt=permanent\n",
      "\n",
      "\n",
      "/jobs?q=data+$60,000&l=Victoria&jt=contract\n",
      "\n",
      "\n",
      "/jobs?q=data+$60,000&l=Victoria&jt=temporary\n",
      "\n",
      "\n",
      "/jobs?q=data+$60,000&l=Victoria&jt=parttime\n",
      "\n",
      "\n",
      "/jobs?q=data+$60,000&l=Victoria&jt=casual\n",
      "\n",
      "\n",
      "/jobs?q=data+$60,000&l=Victoria&jt=internship\n",
      "\n",
      "\n",
      "/jobs?q=data+$60,000&l=Victoria&jt=subcontract\n",
      "\n",
      "\n",
      "/jobs?q=data+$60,000&l=Victoria&jt=commission\n",
      "\n",
      "\n",
      "/Data-$60,000-jobs-in-Melbourne-VIC\n",
      "\n",
      "\n",
      "/Data-$60,000-jobs-in-Melbourne-City-Centre-VIC\n",
      "\n",
      "\n",
      "/Data-$60,000-jobs-in-Geelong-VIC\n",
      "\n",
      "\n",
      "/Data-$60,000-jobs-in-Melbourne-Eastern-Suburbs-VIC\n",
      "\n",
      "\n",
      "/Data-$60,000-jobs-in-Ballarat-VIC\n",
      "\n",
      "\n",
      "/Data-$60,000-jobs-in-Parkville-VIC\n",
      "\n",
      "\n",
      "/Data-$60,000-jobs-in-Cardinia-VIC\n",
      "\n",
      "\n",
      "/Data-$60,000-jobs-in-City-of-Boroondara-VIC\n",
      "\n",
      "\n",
      "/Data-$60,000-jobs-in-Gippsland-VIC\n",
      "\n",
      "\n",
      "/Data-$60,000-jobs-in-Bendigo-VIC\n",
      "\n",
      "\n",
      "/Data-$60,000-jobs-in-Richmond-VIC\n",
      "\n",
      "\n",
      "/Data-$60,000-jobs-in-City-of-Bayside-VIC\n",
      "\n",
      "\n",
      "/Data-$60,000-jobs-in-Baw-Baw-VIC\n",
      "\n",
      "\n",
      "/Data-$60,000-jobs-in-Docklands-VIC\n",
      "\n",
      "\n",
      "/Data-$60,000-jobs\n",
      "\n",
      "\n",
      "/Victorian-Government-jobs-in-Victoria\n",
      "\n",
      "\n",
      "/Michael-Page-jobs-in-Victoria\n",
      "\n",
      "\n",
      "/Hays-jobs-in-Victoria\n",
      "\n",
      "\n",
      "/Deloitte-jobs-in-Victoria\n",
      "\n",
      "\n",
      "/Greythorn-jobs-in-Victoria\n",
      "\n",
      "\n",
      "/Experis-jobs-in-Victoria\n",
      "\n",
      "\n",
      "/Talent-International-jobs-in-Victoria\n",
      "\n",
      "\n",
      "/Fourquarters-jobs-in-Victoria\n",
      "\n",
      "\n",
      "/Robert-Half-jobs-in-Victoria\n",
      "\n",
      "\n",
      "/Davidson-Recruitment-jobs-in-Victoria\n",
      "\n",
      "\n",
      "/Peoplebank-jobs-in-Victoria\n",
      "\n",
      "\n",
      "/Adaps-jobs-in-Victoria\n",
      "\n",
      "\n",
      "/Pharmaceutical-&-Medical-Professionals-jobs-in-Victoria\n",
      "\n",
      "\n",
      "/Page-Personnel-jobs-in-Victoria\n",
      "\n",
      "\n",
      "/Bluefin-Resources-jobs-in-Victoria\n",
      "\n",
      "\n",
      "/Classroom-Teacher-jobs-in-Victoria\n",
      "\n",
      "\n",
      "/Business-Analyst-jobs-in-Victoria\n",
      "\n",
      "\n",
      "/Graduate-Teacher-Program-jobs-in-Victoria\n",
      "\n",
      "\n",
      "/Senior-Business-Analyst-jobs-in-Victoria\n",
      "\n",
      "\n",
      "/Solution-Architect-jobs-in-Victoria\n",
      "\n",
      "\n",
      "/Data-Engineer-jobs-in-Victoria\n",
      "\n",
      "\n",
      "/Senior-Data-Scientist-jobs-in-Victoria\n",
      "\n",
      "\n",
      "/Data-Analyst-jobs-in-Victoria\n",
      "\n",
      "\n",
      "/Learning-Specialist-Range-jobs-in-Victoria\n",
      "\n",
      "\n",
      "/Data-Scientist-jobs-in-Victoria\n",
      "\n",
      "\n",
      "/Business-Development-Manager-jobs-in-Victoria\n",
      "\n",
      "\n",
      "/Teacher-Grad-Recruit-Program-jobs-in-Victoria\n",
      "\n",
      "\n",
      "/promo/resume\n",
      "\n",
      "\n",
      "/promo/resume\n",
      "\n",
      "\n",
      "None\n",
      "\n",
      "\n",
      "/pagead/clk?mo=r&ad=-6NYlbfkN0CC3_2Rv_24Vq7Fmu5-hlnp5bitfzb08yUaNAdmmWA_0CpltNkOXBlOcwmZsMT5-Qctynbu6fsrHMMoTRVehlmJREo-mX9HtoMDavLi83AvXKB0eDD8h_sXftJAcXbnkuiySOdYvT_UU5M7t1pyMZ-QYJqP8t6zOkZTXlmycRtqeCYKgRoipG5FjqEp-Mimgv02ehO09va35eeqYBVErq1LEXnG4lXJ4ktZIxiePoDzLoymo2Dh77gGDxI5wUvETQIkAIaRgqLjWmX2sAXfJFGN5hrNDkwnxSQtmI-hSL0inm8-G6JuB-rv30uhmWMHdj3wh4A3ND6RIcVAR7kbBNX-J_grS8JQRE5mXHFcjO2fCOlMLCJ_z0WzsKawLHYbDjP2XSZi_x3qehAajhFg8JvliqKqtCqIx3sci4YFzU8-ik7GJcp3rRVy7NDeqmGuexsMVI2OPMQRsKI6L1cCVn3vL-OmhYS5IH0=&vjs=3&p=1&sk=&fvj=0\n",
      "\n",
      "\n",
      "/cmp/Agl-Energy\n",
      "\n",
      "\n",
      "/cmp/Agl-Energy/reviews\n",
      "\n",
      "\n",
      "#\n",
      "\n",
      "\n",
      "/pagead/clk?mo=r&ad=-6NYlbfkN0BdoFW-pgk8qz2lidFvI161WPflgHq6k1T1xIfgNTQtPg_9IFmpGIzfqxFOO5veoNe8dfaFsntwDTWhumcQLR2W-Cr3WsDkVZGiAWA7f5_yOgeYrCcR8KoSNd9ICJOa3FmXZPe9ZYJaURsnFRg19-rslsJnhV1NSdoisSfIcNd54JeH0LDAIefwNpEjYAprznGoAx3XDJYxqke0s0Fuln_UUCY6duhBSMAtVH-2gkD_9bP-PE1Vv7ajXoF5aIuXo6kQaTNSPHQ9gV6fUFMXfGlKLAn-9j4bDqP7mnJvmXhKVvUQ3W7yya2VbNkJk2eJ6f8hhx3jZGe3pRDH9066ZSDcDMVZY2wLUSFH9CcAFVKTOq2ST4cGcql6XyyvPRCiBgYq-KbodG8g28QXDhGueBclnnKYqzvAWTsnNZVXx9pXg3VW64AOrJwsAGwYTtiJD-lGPaSG3f0ixFoTveEWjz4pJLFiyxeRsy1VvgaD385dlZjmEUShzCQlZtMRDTEHZWQ=&vjs=3&p=2&sk=&fvj=0\n",
      "\n",
      "\n",
      "/cmp/Anz-Banking-Group\n",
      "\n",
      "\n",
      "/cmp/Anz-Banking-Group/reviews\n",
      "\n",
      "\n",
      "#\n",
      "\n",
      "\n",
      "/pagead/clk?mo=r&ad=-6NYlbfkN0AOXXwwqAHISgAs2liV6JQ1DH3ImiJ_gBhCltXVRTgA8wxfVqiIXw4ez-wdeMz9hpQt47Q4Z15PI7EU1-T6QZnEvS-uLhNrkmx-VSfVVQ8v-NxM2Nwkh3gvBIiULfFi0SDm9nrhJZuBA_RrSBe4TPG0eFdWuWWKMCGRZ8pEryqR-ZgSC2fxBxU934OJ1LZhyuhmBlBPhj6VhRj5iURarv9Fa-jsuSKWoxpl6aVx8Vsuc5A_V4p7AEhcHed4vVPmb9GxoDck3_qogxvJVVOH-2MG-xGV8CVxe3JrQogWrOBeJ6B93DcS5Gnb_vsIoCZTsKPFFWU6aX4qms1KEU26eKBplz-VoiF9n2MQlEtxOJFIdn-YIyh7GIO7BVopr4oIBj9XKSf7n-6RDTkWMPThWakxWk0sSHu7_Cf6eVw-p1FExfyoKcAn1H91bqr26R3WIt7rhvSBMPVJqKvU9pmAkdrzTZqKTcFy4Ck=&vjs=3&p=3&sk=&fvj=1\n",
      "\n",
      "\n",
      "#\n",
      "\n",
      "\n",
      "/pagead/clk?mo=r&ad=-6NYlbfkN0DXvAkv2JllT2-6orEwWutU55vlcgW0k0v1MGxx300Nn1lwtzjDzyHj4o55C-bs_Nr_hZcw6Xo12x5xR_ydgwHn0suB7paOlrXScue6fK1aQd3CBMj8Dh2eOkHHIBUPAmKTs2jGI0ruw3TdatJgD5V9sO18JKcgZ-kLBYAWpGoMQUN5R-rH9ujI3tnMc4idKS02CiF2whc5JyS3aVhKQMM06C0O2g85cDCwDmkcbJvcW7ahlISJr58qL9LHM6qnhQEElxpmmWBHYee-jfDrg5VlkVNuU40XEhJh6lRJxiTK6Pm_2IiEgFybplubP41BzCPW3GxZMJuNanx_P5UQCuUTR8wLKijFEO9xvDQxQHXoPCd7Ws2CM19OjS5WtvJMHcUp4_8UzPFwsi950Zc5-gf22BDz2fV-9-xk33NLj_4bAcyoG94Yn4QEJdNSaWwDj-HhQboWCpaqQcQAghlL4qPm&vjs=3&p=4&sk=&fvj=1\n",
      "\n",
      "\n",
      "#\n",
      "\n",
      "\n",
      "/rc/clk?jk=779f7bd7d346ec1e&fccid=1818d10a60db56b4&vjs=3\n",
      "\n",
      "\n",
      "/cmp/Victorian-Government\n",
      "\n",
      "\n",
      "/cmp/Victorian-Government/reviews\n",
      "\n",
      "\n",
      "#\n",
      "\n",
      "\n",
      "#\n",
      "\n",
      "\n",
      "#\n",
      "\n",
      "\n",
      "/Victorian-Government-jobs\n",
      "\n",
      "\n",
      "/jobs-in-Melbourne-VIC\n",
      "\n",
      "\n",
      "/salaries/Associate-Salaries,-Melbourne-VIC\n",
      "\n",
      "\n",
      "/cmp/Victorian-Government\n",
      "\n",
      "\n",
      "/rc/clk?jk=2aeb42249c3dbf2c&fccid=de71a49b535e21cb&vjs=3\n",
      "\n",
      "\n",
      "/cmp/IBM\n",
      "\n",
      "\n",
      "/cmp/IBM/reviews\n",
      "\n",
      "\n",
      "#\n",
      "\n",
      "\n",
      "#\n",
      "\n",
      "\n",
      "#\n",
      "\n",
      "\n",
      "/IBM-jobs\n",
      "\n",
      "\n",
      "/jobs-in-Melbourne-VIC\n",
      "\n",
      "\n",
      "/salaries/Data-Scientist-Salaries,-Melbourne-VIC\n",
      "\n",
      "\n",
      "/cmp/IBM\n",
      "\n",
      "\n",
      "/rc/clk?jk=419f06c637860455&fccid=1818d10a60db56b4&vjs=3\n",
      "\n",
      "\n",
      "/cmp/Victorian-Government\n",
      "\n",
      "\n",
      "/cmp/Victorian-Government/reviews\n",
      "\n",
      "\n",
      "#\n",
      "\n",
      "\n",
      "#\n",
      "\n",
      "\n",
      "#\n",
      "\n",
      "\n",
      "/Victorian-Government-jobs\n",
      "\n",
      "\n",
      "/jobs-in-Melbourne-City-Centre-VIC\n",
      "\n",
      "\n",
      "/salaries/Customer-Service-Representative-Salaries,-Melbourne-City-Centre-VIC\n",
      "\n",
      "\n",
      "/cmp/Victorian-Government\n",
      "\n",
      "\n",
      "/rc/clk?jk=71d2af68a316547e&fccid=1818d10a60db56b4&vjs=3\n",
      "\n",
      "\n",
      "/cmp/Victorian-Government\n",
      "\n",
      "\n",
      "/cmp/Victorian-Government/reviews\n",
      "\n",
      "\n",
      "#\n",
      "\n",
      "\n",
      "#\n",
      "\n",
      "\n",
      "#\n",
      "\n",
      "\n",
      "/Victorian-Government-jobs\n",
      "\n",
      "\n",
      "/jobs-in-Shepparton-VIC\n",
      "\n",
      "\n",
      "/salaries/Customer-Service-Representative-Salaries,-Shepparton-VIC\n",
      "\n",
      "\n",
      "/cmp/Victorian-Government\n",
      "\n",
      "\n",
      "/rc/clk?jk=2ca7a2f51f260f39&fccid=d5b50c80ac752ce2&vjs=3\n",
      "\n",
      "\n",
      "/cmp/Peter-Maccallum-Cancer-Centre\n",
      "\n",
      "\n",
      "/cmp/Peter-Maccallum-Cancer-Centre/reviews\n",
      "\n",
      "\n",
      "#\n",
      "\n",
      "\n",
      "#\n",
      "\n",
      "\n",
      "#\n",
      "\n",
      "\n",
      "/Peter-Maccallum-Cancer-Centre-jobs\n",
      "\n",
      "\n",
      "/jobs-in-Melbourne-VIC\n",
      "\n",
      "\n",
      "/salaries/Associate-Salaries,-Melbourne-VIC\n",
      "\n",
      "\n",
      "/cmp/Peter-Maccallum-Cancer-Centre\n",
      "\n",
      "\n",
      "/company/IT-Alliance-Australia/jobs/Big-Data-Tester-c57d6d707a49463e?fccid=15c48d9f36fa370b&vjs=3\n",
      "\n",
      "\n",
      "#\n",
      "\n",
      "\n",
      "#\n",
      "\n",
      "\n",
      "#\n",
      "\n",
      "\n",
      "/IT-Alliance-Australia-jobs\n",
      "\n",
      "\n",
      "/jobs-in-Melbourne-VIC\n",
      "\n",
      "\n",
      "/salaries/Tester-Salaries,-Melbourne-VIC\n",
      "\n",
      "\n",
      "/cmp/IT-Alliance-Australia\n",
      "\n",
      "\n",
      "/rc/clk?jk=8737cfe7a3f91478&fccid=0d742c8f7b000ca1&vjs=3\n",
      "\n",
      "\n",
      "#\n",
      "\n",
      "\n",
      "#\n",
      "\n",
      "\n",
      "#\n",
      "\n",
      "\n",
      "/The-Business-Agility-Group-jobs\n",
      "\n",
      "\n",
      "/jobs-in-Docklands-VIC\n",
      "\n",
      "\n",
      "/salaries/Data-Analyst-Salaries,-Docklands-VIC\n",
      "\n",
      "\n",
      "/company/DoScouting/jobs/Sport-Data-Journalist-06afb89f1611737f?fccid=1e75cac487572b89&vjs=3\n",
      "\n",
      "\n",
      "#\n",
      "\n",
      "\n",
      "#\n",
      "\n",
      "\n",
      "#\n",
      "\n",
      "\n",
      "/Doscouting-jobs\n",
      "\n",
      "\n",
      "/jobs-in-Melbourne-VIC\n",
      "\n",
      "\n",
      "/salaries/Journalist-Salaries,-Melbourne-VIC\n",
      "\n",
      "\n",
      "/rc/clk?jk=77c56b370b91e4a2&fccid=20b669f1c15c56b8&vjs=3\n",
      "\n",
      "\n",
      "/cmp/Rmit-University\n",
      "\n",
      "\n",
      "/cmp/Rmit-University/reviews\n",
      "\n",
      "\n",
      "#\n",
      "\n",
      "\n",
      "#\n",
      "\n",
      "\n",
      "#\n",
      "\n",
      "\n",
      "/Rmit-University-jobs\n",
      "\n",
      "\n",
      "/jobs-in-Melbourne-City-Centre-VIC\n",
      "\n",
      "\n",
      "/cmp/Rmit-University\n",
      "\n",
      "\n",
      "/company/IT-Alliance-Australia/jobs/Informatica-Enterprise-Data-Catalog-247b520c8d412943?fccid=15c48d9f36fa370b&vjs=3\n",
      "\n",
      "\n",
      "#\n",
      "\n",
      "\n",
      "#\n",
      "\n",
      "\n",
      "#\n",
      "\n",
      "\n",
      "/IT-Alliance-Australia-jobs\n",
      "\n",
      "\n",
      "/jobs-in-Melbourne-VIC\n",
      "\n",
      "\n",
      "/cmp/IT-Alliance-Australia\n",
      "\n",
      "\n",
      "/pagead/clk?mo=r&ad=-6NYlbfkN0Dc1nOqXGa-3qOUOaZIQYmDRcsTd8B0qa6SPVar1bCBooFw_mzDk-mHXNrD3rul6gY8aSr38Eb2l0DomKaL3XuqlCNb8bLpeEJKdptIDnbfkhjDcqyfX6kEnQQsocRntGnqfAmlaUBPY76GOjIrs_nWAVv5k-3MnLF4olZhKaEVji8yRKwqnrRoOrVU_XQ7lBr7f5tK38A4uvuVdtuw4XDCx6tYyTrjGdVSsG_EqHDKWmNk2Id5gLkzzmJVC-CZ1dqUsacGkoBnw9YOq6IWlNsqfChf1TqkBHklX8gThlyljLXPW9ZT4GElqsIH1PVPq9OEn-pQtp6OSEbDB_91QURf7T-Gab98rb1NqS9Od_IzOriJCPBH9COC_jK0knIIcbb52xvW7QcguGDjlIICoS_AHmkH7J_fqk_0sM2fQnWhbA==&vjs=3&p=5&sk=&fvj=0\n",
      "\n",
      "\n",
      "/cmp/Ignite\n",
      "\n",
      "\n",
      "/cmp/Ignite/reviews\n",
      "\n",
      "\n",
      "#\n",
      "\n",
      "\n",
      "/pagead/clk?mo=r&ad=-6NYlbfkN0CupRqUKQ3UQMA6d95jAjxive_zEx7XsIS3ZsAp5X52OBasycPnV1Yiojb6683h2Zc3woCNGHJEdMdCqQ3IHXKylNdZw7QRaT6ERzB82vxbms9VrBSynH_nR_8p8T0oMo8A3AoE856jtGmBOYj1RVnhTf3T2us7xCYx6R9ozdvaiyDHAlU8vrk-4ZfZnPStcHuq91Fqcditp9mG6uPUcDsdfJhHVQDl1ml1FFgNn8LeNJ-QbzT8BX274TtTXMs5qk1x_Vyw67kEk29x4Vcm_UrszyRjk6jTXcRepGyLbbe6V71M82fbM2HJbpsLBWuso7br7StIDGFvZ65FwqE7uh3ATMeNTbMMnykyN5m60vGhz-d7pMKxGrrL5SUbXbJsceShDTTSvyPndK1LhSoL7knNjBKgXR9Ii_ROsW-VmPaAI6X_IYN1pBxrNFZ1QI-nxMQ=&vjs=3&p=6&sk=&fvj=1\n",
      "\n",
      "\n",
      "/cmp/Cognizant-Technology-Solutions\n",
      "\n",
      "\n",
      "/cmp/Cognizant-Technology-Solutions/reviews\n",
      "\n",
      "\n",
      "#\n",
      "\n",
      "\n",
      "/jobs?q=data+%2460%2C000&l=Victoria&start=10\n",
      "\n",
      "\n",
      "/jobs?q=data+%2460%2C000&l=Victoria&start=20\n",
      "\n",
      "\n",
      "/jobs?q=data+%2460%2C000&l=Victoria&start=30\n",
      "\n",
      "\n",
      "/jobs?q=data+%2460%2C000&l=Victoria&start=40\n",
      "\n",
      "\n",
      "/jobs?q=data+%2460%2C000&l=Victoria&start=10\n",
      "\n",
      "\n",
      "https://au.indeed.com/legal?hl=en\n",
      "\n",
      "\n",
      "/cmp/Agl-Energy\n",
      "\n",
      "\n",
      "/cmp/Agl-Energy\n",
      "\n",
      "\n",
      "https://au.indeed.com/pagead/clk?mo=r&ad=-6NYlbfkN0CC3_2Rv_24Vq7Fmu5-hlnp5bitfzb08yUaNAdmmWA_0CpltNkOXBlOcwmZsMT5-Qctynbu6fsrHMMoTRVehlmJREo-mX9HtoMDavLi83AvXKB0eDD8h_sXftJAcXbnkuiV0jxQCWjHv2ya6ltRBUd5Y-fe-TG0ZB8oDGsgsNVdPvXSUQErDth_scH4fbYhyxt38hI_z__r-fpwhwvC3E95Ysyx_X18iM0DfoZ39RKId6Zs492Sp7RPdtBc1w6bJZ8vbMO0AGEzVCmui02CCuYPWv8TgyRqTIsdq_kCJlNEepDJ27isj_yAl5Eh2K5p5JCR92zOoMDsn3meQNFmooxi-Gp1ZMER-FK0PoTNQUHkGWL2eVdmugcPZoVhATjqT7uX2cICZoHqIhiUkPj0ambjdFdMBceJuedtkHJnQuAfE7FtSheY49Ujy8X0hPODws7V6cPDgGBo7uNR8l-7rd87eFU8Ind7-8kyA_1icuCXHgBUI_0PKHimZ2RIW-omChNqNLnlat-S6tqcD_UBm2_u&atk=\n",
      "\n",
      "\n",
      "https://au.indeed.com/pagead/clk?mo=r&ad=-6NYlbfkN0CC3_2Rv_24Vq7Fmu5-hlnp5bitfzb08yUaNAdmmWA_0CpltNkOXBlOcwmZsMT5-QfGi9IQDEd1XDN6p5Z-MYeWHuhjqzSv3YhNj6lj6lhel6jSqJr45eQe9pQCuNUA8NxC0T1Vu12I6pmB8dtGxIeFCLaHg4R1u4BzSuJJat3v6QN8WmV_Ohee0ce9cYIZW31QOfh-oMi0BA4ppJ-4reeH2S3LpRts4J_bI17C9kwBul86CO6L-4L1rGhAQtkWRgq9h4nYj_Ve1In17ZaORViz2gq8_XLsNJpmWkRWk4ruhrJh-W3Vbpmvj8it7W6O2xY9bCuEF-TPbMxOMMcahX-FNRqmgSyxZPCjwx68Tbkyct4Ui1MpeZ8y-PPgr7nhxVyOQ2XwyOR-15ruN4inCyrxdQuYIBBG-f4gcRYve7F85Wo22-Jepn0Lg6meBY_ZECn0J9zuQ0sMUvdLNijGQir4DvJOCMsaHs_Zcn_Eavosg23W8IADw_12PdaZ-EYWE-EtHPq5JxerqKf7qfuypLkY&atk=\n",
      "\n",
      "\n",
      "https://au.indeed.com/pagead/clk?mo=r&ad=-6NYlbfkN0CC3_2Rv_24Vq7Fmu5-hlnp5bitfzb08yUaNAdmmWA_0CpltNkOXBlOcwmZsMT5-QeH4zm35UEQYifqIjmzn-cFOH6RvDsfQzoNKRUMZoSHVhbC43E1gTKLEslt09jbPBLrE8qW0e2L42Za9Wz2OVouObjT4sgkB7_NPKpu_6JXLoY4pykliAqSA2drHPjWyDI98Fy-oioWkg0VIlq4dUnmPKWv6ibySovzsbHc5qGZ-vL-HkoLHuZeTh0cr-FcV1nMt0RYWh0P0FexZM0O2hM38xDEPBlgTHz9nc2HxEDy_OiGffUOJcy2EZm5YZhVblk2BK7giBCwXa6o_75VqjOaRkNHsreyQzj_MaRIaB4UpoZ1CghjPkMHX-168gn_ZnAAvEILiJgjlbHtLJEEZGnqS29JXfB9bNZO7tnOB3WwNLDwYlpbBvuFgt8NZhyK3MDJkvZhML37g4v91SFBEUDGaLulyF6r0XLhdtZL3gnhHQwNPtl2UqXcXbnMnVScQl3hWnZVbaHxx8PyUuKInJvB&atk=\n",
      "\n",
      "\n",
      "/jobs?q=company%3A%22AGL+Energy%22&l=Victoria\n",
      "\n",
      "\n",
      "/cmp/Agl-Energy/reviews\n",
      "\n",
      "\n",
      "/cmp/Agl-Energy/salaries\n",
      "\n",
      "\n",
      "/salaries/Associate-Salaries,-Victoria\n",
      "\n",
      "\n",
      "/promo/resume?from=resumePostJobClickCTA&trk.origin=jobsearch\n",
      "\n",
      "\n",
      "/\n",
      "\n",
      "\n",
      "/companies\n",
      "\n",
      "\n",
      "/salaries\n",
      "\n",
      "\n",
      "/browsejobs\n",
      "\n",
      "\n",
      "http://www.indeed.jobs\n",
      "\n",
      "\n",
      "http://blog.au.indeed.com\n",
      "\n",
      "\n",
      "/intl/en/about.html\n",
      "\n",
      "\n",
      "https://indeed.zendesk.com/hc/en-au\n",
      "\n",
      "\n",
      "/legal\n",
      "\n",
      "\n"
     ]
    }
   ],
   "source": [
    "\n",
    "for link in soup.find_all('a'):\n",
    "    \n",
    "    print(link.get('href'))\n",
    "    print('\\n')\n"
   ]
  },
  {
   "cell_type": "code",
   "execution_count": 40,
   "metadata": {},
   "outputs": [],
   "source": [
    "driver.find_element_by_xpath(\"//a[@href='/pagead/clk?mo=r&ad=-6NYlbfkN0BdoFW-pgk8qz2lidFvI161WPflgHq6k1T1xIfgNTQtPg_9IFmpGIzfqxFOO5veoNe8dfaFsntwDTWhumcQLR2W-Cr3WsDkVZGiAWA7f5_yOgeYrCcR8KoSNd9ICJOa3FmXZPe9ZYJaUf6rDXB54zoWItRsUf0lMUq5clDTCMqoZAIEAPKc-mXICEygwqKnLUKvs0XBNVNOl_XJ7I-eRYTppbzl7Q9t4_5R17-vEXFWQ9Z9MwRpz50mOUp1jqmorB_jCHq_6Uk0di9bsNHvDOyiX_zOvz2WD2CZsAb88jllaTeaCHL733864ou2k2GQx-WPzSBGeOUX0-xshM-HADl66H6_vc2BSMonsz8wNjrKwRccfC3w4XD5BmTIfCxDlkyRuqOcQC4DyS4fn4J4MX3Y3dhjYkY0e1np95VuJnmXKdM-f32yzeFvn2CSCbRJ4vHn7FqkUQPZvQsnlbISD1ZhUr2xQY--e_dv9gRfQSE0NFGZVPrKnZEVmSW_2JMJHgE=&vjs=3&p=2&sk=&fvj=0']\").click()\n",
    "\n",
    "\n",
    "\n",
    "\n",
    "\n",
    "\n"
   ]
  }
 ],
 "metadata": {
  "kernelspec": {
   "display_name": "Python 3",
   "language": "python",
   "name": "python3"
  },
  "language_info": {
   "codemirror_mode": {
    "name": "ipython",
    "version": 3
   },
   "file_extension": ".py",
   "mimetype": "text/x-python",
   "name": "python",
   "nbconvert_exporter": "python",
   "pygments_lexer": "ipython3",
   "version": "3.6.5"
  }
 },
 "nbformat": 4,
 "nbformat_minor": 2
}

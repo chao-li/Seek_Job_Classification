{
 "cells": [
  {
   "cell_type": "code",
   "execution_count": 1,
   "metadata": {},
   "outputs": [],
   "source": [
    "import numpy as np\n",
    "import pandas as pd\n",
    "import seaborn as sns\n",
    "import matplotlib.pyplot as plt\n",
    "%matplotlib inline\n",
    "%config InlineBackend.figure_format = 'retina'"
   ]
  },
  {
   "cell_type": "code",
   "execution_count": 2,
   "metadata": {},
   "outputs": [],
   "source": [
    "def log_progress(sequence, every=None, size=None, name='Items'):\n",
    "    from ipywidgets import IntProgress, HTML, VBox\n",
    "    from IPython.display import display\n",
    "\n",
    "    is_iterator = False\n",
    "    if size is None:\n",
    "        try:\n",
    "            size = len(sequence)\n",
    "        except TypeError:\n",
    "            is_iterator = True\n",
    "    if size is not None:\n",
    "        if every is None:\n",
    "            if size <= 200:\n",
    "                every = 1\n",
    "            else:\n",
    "                every = int(size / 200)     # every 0.5%\n",
    "    else:\n",
    "        assert every is not None, 'sequence is iterator, set every'\n",
    "\n",
    "    if is_iterator:\n",
    "        progress = IntProgress(min=0, max=1, value=1)\n",
    "        progress.bar_style = 'info'\n",
    "    else:\n",
    "        progress = IntProgress(min=0, max=size, value=0)\n",
    "    label = HTML()\n",
    "    box = VBox(children=[label, progress])\n",
    "    display(box)\n",
    "\n",
    "    index = 0\n",
    "    try:\n",
    "        for index, record in enumerate(sequence, 1):\n",
    "            if index == 1 or index % every == 0:\n",
    "                if is_iterator:\n",
    "                    label.value = '{name}: {index} / ?'.format(\n",
    "                        name=name,\n",
    "                        index=index\n",
    "                    )\n",
    "                else:\n",
    "                    progress.value = index\n",
    "                    label.value = u'{name}: {index} / {size}'.format(\n",
    "                        name=name,\n",
    "                        index=index,\n",
    "                        size=size\n",
    "                    )\n",
    "            yield record\n",
    "    except:\n",
    "        progress.bar_style = 'danger'\n",
    "        raise\n",
    "    else:\n",
    "        progress.bar_style = 'success'\n",
    "        progress.value = index\n",
    "        label.value = \"{name}: {index}\".format(\n",
    "            name=name,\n",
    "            index=str(index or '?')\n",
    "        )"
   ]
  },
  {
   "cell_type": "code",
   "execution_count": 3,
   "metadata": {},
   "outputs": [],
   "source": [
    "path_80k = 'seek80k_jobs.csv'\n",
    "path_100k = 'seek100k_jobs.csv'"
   ]
  },
  {
   "cell_type": "code",
   "execution_count": 4,
   "metadata": {},
   "outputs": [],
   "source": [
    "df_80k = pd.read_csv(path_80k).drop(columns = ['Unnamed: 0'])\n",
    "df_100k = pd.read_csv(path_100k).drop(columns = ['Unnamed: 0'])"
   ]
  },
  {
   "cell_type": "code",
   "execution_count": 5,
   "metadata": {},
   "outputs": [
    {
     "data": {
      "text/html": [
       "<div>\n",
       "<style scoped>\n",
       "    .dataframe tbody tr th:only-of-type {\n",
       "        vertical-align: middle;\n",
       "    }\n",
       "\n",
       "    .dataframe tbody tr th {\n",
       "        vertical-align: top;\n",
       "    }\n",
       "\n",
       "    .dataframe thead th {\n",
       "        text-align: right;\n",
       "    }\n",
       "</style>\n",
       "<table border=\"1\" class=\"dataframe\">\n",
       "  <thead>\n",
       "    <tr style=\"text-align: right;\">\n",
       "      <th></th>\n",
       "      <th>url</th>\n",
       "      <th>job_title</th>\n",
       "      <th>company</th>\n",
       "      <th>date</th>\n",
       "      <th>location</th>\n",
       "      <th>employment_type</th>\n",
       "      <th>field</th>\n",
       "      <th>description</th>\n",
       "    </tr>\n",
       "  </thead>\n",
       "  <tbody>\n",
       "    <tr>\n",
       "      <th>0</th>\n",
       "      <td>https://www.seek.com.au/job/37428435?type=prom...</td>\n",
       "      <td>Tender / Bid Leader - Data Collection &amp; Road A...</td>\n",
       "      <td>Australian Road Research Board</td>\n",
       "      <td>10 Oct 2018</td>\n",
       "      <td>Brisbane</td>\n",
       "      <td>Full Time</td>\n",
       "      <td>Engineering</td>\n",
       "      <td>About us:Established in 1960, the Australian R...</td>\n",
       "    </tr>\n",
       "    <tr>\n",
       "      <th>1</th>\n",
       "      <td>https://www.seek.com.au/job/37512965?type=prom...</td>\n",
       "      <td>Commercial Analyst</td>\n",
       "      <td>NaN</td>\n",
       "      <td>19 Oct 2018</td>\n",
       "      <td>Cairns &amp; Far North</td>\n",
       "      <td>Full Time</td>\n",
       "      <td>Accounting</td>\n",
       "      <td>Coral Expeditions is Australia's Pioneering Ex...</td>\n",
       "    </tr>\n",
       "    <tr>\n",
       "      <th>2</th>\n",
       "      <td>https://www.seek.com.au/job/37523713?type=stan...</td>\n",
       "      <td>Data Analyst</td>\n",
       "      <td>Youfoodz Pty Ltd</td>\n",
       "      <td>22 Oct 2018</td>\n",
       "      <td>Brisbane</td>\n",
       "      <td>Full Time</td>\n",
       "      <td>Marketing &amp; Communications</td>\n",
       "      <td>You've heard about us…You've watched as we hav...</td>\n",
       "    </tr>\n",
       "  </tbody>\n",
       "</table>\n",
       "</div>"
      ],
      "text/plain": [
       "                                                 url  \\\n",
       "0  https://www.seek.com.au/job/37428435?type=prom...   \n",
       "1  https://www.seek.com.au/job/37512965?type=prom...   \n",
       "2  https://www.seek.com.au/job/37523713?type=stan...   \n",
       "\n",
       "                                           job_title  \\\n",
       "0  Tender / Bid Leader - Data Collection & Road A...   \n",
       "1                                 Commercial Analyst   \n",
       "2                                       Data Analyst   \n",
       "\n",
       "                          company         date            location  \\\n",
       "0  Australian Road Research Board  10 Oct 2018            Brisbane   \n",
       "1                             NaN  19 Oct 2018  Cairns & Far North   \n",
       "2                Youfoodz Pty Ltd  22 Oct 2018            Brisbane   \n",
       "\n",
       "  employment_type                       field  \\\n",
       "0       Full Time                 Engineering   \n",
       "1       Full Time                  Accounting   \n",
       "2       Full Time  Marketing & Communications   \n",
       "\n",
       "                                         description  \n",
       "0  About us:Established in 1960, the Australian R...  \n",
       "1  Coral Expeditions is Australia's Pioneering Ex...  \n",
       "2  You've heard about us…You've watched as we hav...  "
      ]
     },
     "execution_count": 5,
     "metadata": {},
     "output_type": "execute_result"
    }
   ],
   "source": [
    "df_80k.head(3)"
   ]
  },
  {
   "cell_type": "code",
   "execution_count": 6,
   "metadata": {},
   "outputs": [
    {
     "data": {
      "text/html": [
       "<div>\n",
       "<style scoped>\n",
       "    .dataframe tbody tr th:only-of-type {\n",
       "        vertical-align: middle;\n",
       "    }\n",
       "\n",
       "    .dataframe tbody tr th {\n",
       "        vertical-align: top;\n",
       "    }\n",
       "\n",
       "    .dataframe thead th {\n",
       "        text-align: right;\n",
       "    }\n",
       "</style>\n",
       "<table border=\"1\" class=\"dataframe\">\n",
       "  <thead>\n",
       "    <tr style=\"text-align: right;\">\n",
       "      <th></th>\n",
       "      <th>url</th>\n",
       "      <th>job_title</th>\n",
       "      <th>company</th>\n",
       "      <th>date</th>\n",
       "      <th>location</th>\n",
       "      <th>employment_type</th>\n",
       "      <th>field</th>\n",
       "      <th>description</th>\n",
       "    </tr>\n",
       "  </thead>\n",
       "  <tbody>\n",
       "    <tr>\n",
       "      <th>0</th>\n",
       "      <td>https://www.seek.com.au/job/37393509?type=prom...</td>\n",
       "      <td>Enterprise Data &amp; Reporting Lead</td>\n",
       "      <td>NaN</td>\n",
       "      <td>5 Oct 2018</td>\n",
       "      <td>Melbourne</td>\n",
       "      <td>Full Time</td>\n",
       "      <td>Information &amp; Communication Technology</td>\n",
       "      <td>About SEEK SEEK is the global leader in the cr...</td>\n",
       "    </tr>\n",
       "    <tr>\n",
       "      <th>1</th>\n",
       "      <td>https://www.seek.com.au/job/37394390?type=prom...</td>\n",
       "      <td>C# Software Engineer |GUI | Market Data |Equit...</td>\n",
       "      <td>Kapital Consulting</td>\n",
       "      <td>5 Oct 2018</td>\n",
       "      <td>Sydney</td>\n",
       "      <td>Full Time</td>\n",
       "      <td>Information &amp; Communication Technology</td>\n",
       "      <td>About the Role An opportunity is available for...</td>\n",
       "    </tr>\n",
       "    <tr>\n",
       "      <th>2</th>\n",
       "      <td>https://www.seek.com.au/job/37501619?type=stan...</td>\n",
       "      <td>Data and Process Analyst - EL1</td>\n",
       "      <td>Cox Purtell Staffing Services</td>\n",
       "      <td>18 Oct 2018</td>\n",
       "      <td>South West Coast VIC</td>\n",
       "      <td>Contract/Temp</td>\n",
       "      <td>Accounting</td>\n",
       "      <td>Data &amp; Process Analyst Classification: EL1 eq...</td>\n",
       "    </tr>\n",
       "  </tbody>\n",
       "</table>\n",
       "</div>"
      ],
      "text/plain": [
       "                                                 url  \\\n",
       "0  https://www.seek.com.au/job/37393509?type=prom...   \n",
       "1  https://www.seek.com.au/job/37394390?type=prom...   \n",
       "2  https://www.seek.com.au/job/37501619?type=stan...   \n",
       "\n",
       "                                           job_title  \\\n",
       "0                   Enterprise Data & Reporting Lead   \n",
       "1  C# Software Engineer |GUI | Market Data |Equit...   \n",
       "2                     Data and Process Analyst - EL1   \n",
       "\n",
       "                         company         date              location  \\\n",
       "0                            NaN   5 Oct 2018             Melbourne   \n",
       "1             Kapital Consulting   5 Oct 2018                Sydney   \n",
       "2  Cox Purtell Staffing Services  18 Oct 2018  South West Coast VIC   \n",
       "\n",
       "  employment_type                                   field  \\\n",
       "0       Full Time  Information & Communication Technology   \n",
       "1       Full Time  Information & Communication Technology   \n",
       "2   Contract/Temp                              Accounting   \n",
       "\n",
       "                                         description  \n",
       "0  About SEEK SEEK is the global leader in the cr...  \n",
       "1  About the Role An opportunity is available for...  \n",
       "2   Data & Process Analyst Classification: EL1 eq...  "
      ]
     },
     "execution_count": 6,
     "metadata": {},
     "output_type": "execute_result"
    }
   ],
   "source": [
    "df_100k.head(3)"
   ]
  },
  {
   "cell_type": "markdown",
   "metadata": {},
   "source": [
    "### add pay target 1 to 100k and 0 to 80k"
   ]
  },
  {
   "cell_type": "code",
   "execution_count": 7,
   "metadata": {},
   "outputs": [],
   "source": [
    "df_100k['pay'] = 1\n",
    "df_80k['pay'] = 0"
   ]
  },
  {
   "cell_type": "code",
   "execution_count": 8,
   "metadata": {},
   "outputs": [
    {
     "data": {
      "text/html": [
       "<div>\n",
       "<style scoped>\n",
       "    .dataframe tbody tr th:only-of-type {\n",
       "        vertical-align: middle;\n",
       "    }\n",
       "\n",
       "    .dataframe tbody tr th {\n",
       "        vertical-align: top;\n",
       "    }\n",
       "\n",
       "    .dataframe thead th {\n",
       "        text-align: right;\n",
       "    }\n",
       "</style>\n",
       "<table border=\"1\" class=\"dataframe\">\n",
       "  <thead>\n",
       "    <tr style=\"text-align: right;\">\n",
       "      <th></th>\n",
       "      <th>url</th>\n",
       "      <th>job_title</th>\n",
       "      <th>company</th>\n",
       "      <th>date</th>\n",
       "      <th>location</th>\n",
       "      <th>employment_type</th>\n",
       "      <th>field</th>\n",
       "      <th>description</th>\n",
       "      <th>pay</th>\n",
       "    </tr>\n",
       "  </thead>\n",
       "  <tbody>\n",
       "    <tr>\n",
       "      <th>0</th>\n",
       "      <td>https://www.seek.com.au/job/37428435?type=prom...</td>\n",
       "      <td>Tender / Bid Leader - Data Collection &amp; Road A...</td>\n",
       "      <td>Australian Road Research Board</td>\n",
       "      <td>10 Oct 2018</td>\n",
       "      <td>Brisbane</td>\n",
       "      <td>Full Time</td>\n",
       "      <td>Engineering</td>\n",
       "      <td>About us:Established in 1960, the Australian R...</td>\n",
       "      <td>0</td>\n",
       "    </tr>\n",
       "    <tr>\n",
       "      <th>1</th>\n",
       "      <td>https://www.seek.com.au/job/37512965?type=prom...</td>\n",
       "      <td>Commercial Analyst</td>\n",
       "      <td>NaN</td>\n",
       "      <td>19 Oct 2018</td>\n",
       "      <td>Cairns &amp; Far North</td>\n",
       "      <td>Full Time</td>\n",
       "      <td>Accounting</td>\n",
       "      <td>Coral Expeditions is Australia's Pioneering Ex...</td>\n",
       "      <td>0</td>\n",
       "    </tr>\n",
       "    <tr>\n",
       "      <th>2</th>\n",
       "      <td>https://www.seek.com.au/job/37523713?type=stan...</td>\n",
       "      <td>Data Analyst</td>\n",
       "      <td>Youfoodz Pty Ltd</td>\n",
       "      <td>22 Oct 2018</td>\n",
       "      <td>Brisbane</td>\n",
       "      <td>Full Time</td>\n",
       "      <td>Marketing &amp; Communications</td>\n",
       "      <td>You've heard about us…You've watched as we hav...</td>\n",
       "      <td>0</td>\n",
       "    </tr>\n",
       "  </tbody>\n",
       "</table>\n",
       "</div>"
      ],
      "text/plain": [
       "                                                 url  \\\n",
       "0  https://www.seek.com.au/job/37428435?type=prom...   \n",
       "1  https://www.seek.com.au/job/37512965?type=prom...   \n",
       "2  https://www.seek.com.au/job/37523713?type=stan...   \n",
       "\n",
       "                                           job_title  \\\n",
       "0  Tender / Bid Leader - Data Collection & Road A...   \n",
       "1                                 Commercial Analyst   \n",
       "2                                       Data Analyst   \n",
       "\n",
       "                          company         date            location  \\\n",
       "0  Australian Road Research Board  10 Oct 2018            Brisbane   \n",
       "1                             NaN  19 Oct 2018  Cairns & Far North   \n",
       "2                Youfoodz Pty Ltd  22 Oct 2018            Brisbane   \n",
       "\n",
       "  employment_type                       field  \\\n",
       "0       Full Time                 Engineering   \n",
       "1       Full Time                  Accounting   \n",
       "2       Full Time  Marketing & Communications   \n",
       "\n",
       "                                         description  pay  \n",
       "0  About us:Established in 1960, the Australian R...    0  \n",
       "1  Coral Expeditions is Australia's Pioneering Ex...    0  \n",
       "2  You've heard about us…You've watched as we hav...    0  "
      ]
     },
     "execution_count": 8,
     "metadata": {},
     "output_type": "execute_result"
    }
   ],
   "source": [
    "df_80k.head(3)"
   ]
  },
  {
   "cell_type": "code",
   "execution_count": 9,
   "metadata": {},
   "outputs": [],
   "source": [
    "df = pd.concat([df_100k, df_80k], axis = 0)"
   ]
  },
  {
   "cell_type": "markdown",
   "metadata": {},
   "source": [
    "### Reshuffle row"
   ]
  },
  {
   "cell_type": "code",
   "execution_count": 10,
   "metadata": {},
   "outputs": [],
   "source": [
    "df = df.sample(frac=1).reset_index(drop = True)"
   ]
  },
  {
   "cell_type": "code",
   "execution_count": 11,
   "metadata": {},
   "outputs": [
    {
     "data": {
      "text/plain": [
       "array(['Full Time', 'Contract/Temp', 'Part Time', 'Casual/Vacation', nan],\n",
       "      dtype=object)"
      ]
     },
     "execution_count": 11,
     "metadata": {},
     "output_type": "execute_result"
    }
   ],
   "source": [
    "df.employment_type.unique()"
   ]
  },
  {
   "cell_type": "markdown",
   "metadata": {},
   "source": [
    "### Clean data"
   ]
  },
  {
   "cell_type": "code",
   "execution_count": 12,
   "metadata": {},
   "outputs": [
    {
     "data": {
      "text/plain": [
       "(7677, 9)"
      ]
     },
     "execution_count": 12,
     "metadata": {},
     "output_type": "execute_result"
    }
   ],
   "source": [
    "df.shape"
   ]
  },
  {
   "cell_type": "code",
   "execution_count": 13,
   "metadata": {},
   "outputs": [
    {
     "data": {
      "text/plain": [
       "url                   0\n",
       "job_title             2\n",
       "company            2660\n",
       "date                  2\n",
       "location              2\n",
       "employment_type       2\n",
       "field                 2\n",
       "description         119\n",
       "pay                   0\n",
       "dtype: int64"
      ]
     },
     "execution_count": 13,
     "metadata": {},
     "output_type": "execute_result"
    }
   ],
   "source": [
    "df.isnull().sum()"
   ]
  },
  {
   "cell_type": "markdown",
   "metadata": {},
   "source": [
    "#### Remove null values"
   ]
  },
  {
   "cell_type": "code",
   "execution_count": 14,
   "metadata": {},
   "outputs": [],
   "source": [
    "df = df[~df['field'].isnull()]"
   ]
  },
  {
   "cell_type": "code",
   "execution_count": 15,
   "metadata": {},
   "outputs": [],
   "source": [
    "df = df[~df['description'].isnull()]"
   ]
  },
  {
   "cell_type": "code",
   "execution_count": 16,
   "metadata": {},
   "outputs": [],
   "source": [
    "df = df.drop(columns = ['company'])"
   ]
  },
  {
   "cell_type": "code",
   "execution_count": 17,
   "metadata": {},
   "outputs": [
    {
     "data": {
      "text/plain": [
       "url                0\n",
       "job_title          0\n",
       "date               0\n",
       "location           0\n",
       "employment_type    0\n",
       "field              0\n",
       "description        0\n",
       "pay                0\n",
       "dtype: int64"
      ]
     },
     "execution_count": 17,
     "metadata": {},
     "output_type": "execute_result"
    }
   ],
   "source": [
    "df.isnull().sum()"
   ]
  },
  {
   "cell_type": "code",
   "execution_count": 18,
   "metadata": {},
   "outputs": [],
   "source": [
    "# check baseline\n",
    "baseline = 1 - df['pay'].mean()"
   ]
  },
  {
   "cell_type": "code",
   "execution_count": 19,
   "metadata": {},
   "outputs": [
    {
     "data": {
      "text/plain": [
       "0.5046308547234718"
      ]
     },
     "execution_count": 19,
     "metadata": {},
     "output_type": "execute_result"
    }
   ],
   "source": [
    "baseline"
   ]
  },
  {
   "cell_type": "markdown",
   "metadata": {},
   "source": [
    "#### Extracting year and month"
   ]
  },
  {
   "cell_type": "code",
   "execution_count": 20,
   "metadata": {},
   "outputs": [],
   "source": [
    "# convert to datetime\n",
    "df['date_time'] = pd.to_datetime(df['date'])"
   ]
  },
  {
   "cell_type": "code",
   "execution_count": 21,
   "metadata": {},
   "outputs": [],
   "source": [
    "def getYear(value):\n",
    "    return value.year\n",
    "\n",
    "def getMonth(value):\n",
    "    return value.month"
   ]
  },
  {
   "cell_type": "code",
   "execution_count": 22,
   "metadata": {},
   "outputs": [],
   "source": [
    "df['year'] = df['date_time'].apply(getYear)\n",
    "df['month'] = df['date_time'].apply(getMonth)"
   ]
  },
  {
   "cell_type": "code",
   "execution_count": 23,
   "metadata": {},
   "outputs": [],
   "source": [
    "df.drop(columns = ['date', 'date_time'], inplace = True)"
   ]
  },
  {
   "cell_type": "markdown",
   "metadata": {},
   "source": [
    "#### Combine the job title into the job description"
   ]
  },
  {
   "cell_type": "code",
   "execution_count": 24,
   "metadata": {},
   "outputs": [],
   "source": [
    "# combine the job title with description into 1 field\n",
    "df['full_description'] = df['job_title'].values + ' ' +  df['description'].values\n",
    "    "
   ]
  },
  {
   "cell_type": "code",
   "execution_count": 25,
   "metadata": {},
   "outputs": [
    {
     "data": {
      "text/html": [
       "<div>\n",
       "<style scoped>\n",
       "    .dataframe tbody tr th:only-of-type {\n",
       "        vertical-align: middle;\n",
       "    }\n",
       "\n",
       "    .dataframe tbody tr th {\n",
       "        vertical-align: top;\n",
       "    }\n",
       "\n",
       "    .dataframe thead th {\n",
       "        text-align: right;\n",
       "    }\n",
       "</style>\n",
       "<table border=\"1\" class=\"dataframe\">\n",
       "  <thead>\n",
       "    <tr style=\"text-align: right;\">\n",
       "      <th></th>\n",
       "      <th>url</th>\n",
       "      <th>job_title</th>\n",
       "      <th>location</th>\n",
       "      <th>employment_type</th>\n",
       "      <th>field</th>\n",
       "      <th>description</th>\n",
       "      <th>pay</th>\n",
       "      <th>year</th>\n",
       "      <th>month</th>\n",
       "      <th>full_description</th>\n",
       "    </tr>\n",
       "  </thead>\n",
       "  <tbody>\n",
       "    <tr>\n",
       "      <th>0</th>\n",
       "      <td>https://www.seek.com.au/job/37479102?type=stan...</td>\n",
       "      <td>Divisional Accountant</td>\n",
       "      <td>Adelaide</td>\n",
       "      <td>Full Time</td>\n",
       "      <td>Accounting</td>\n",
       "      <td>The role of Divisional Accountant will be well...</td>\n",
       "      <td>0</td>\n",
       "      <td>2018</td>\n",
       "      <td>10</td>\n",
       "      <td>Divisional Accountant The role of Divisional A...</td>\n",
       "    </tr>\n",
       "    <tr>\n",
       "      <th>1</th>\n",
       "      <td>https://www.seek.com.au/job/37475861?type=stan...</td>\n",
       "      <td>Customer Service - 11am - 7pm</td>\n",
       "      <td>Sydney</td>\n",
       "      <td>Full Time</td>\n",
       "      <td>Call Centre &amp; Customer Service</td>\n",
       "      <td>A global sustainable solutions company in Macq...</td>\n",
       "      <td>0</td>\n",
       "      <td>2018</td>\n",
       "      <td>10</td>\n",
       "      <td>Customer Service - 11am - 7pm  A global sustai...</td>\n",
       "    </tr>\n",
       "    <tr>\n",
       "      <th>2</th>\n",
       "      <td>https://www.seek.com.au/job/37470414?type=stan...</td>\n",
       "      <td>Data Analyst - Looker</td>\n",
       "      <td>Sydney</td>\n",
       "      <td>Full Time</td>\n",
       "      <td>Consulting &amp; Strategy</td>\n",
       "      <td>About the business and the role My client is...</td>\n",
       "      <td>0</td>\n",
       "      <td>2018</td>\n",
       "      <td>10</td>\n",
       "      <td>Data Analyst - Looker   About the business and...</td>\n",
       "    </tr>\n",
       "    <tr>\n",
       "      <th>3</th>\n",
       "      <td>https://www.seek.com.au/job/37522558?type=stan...</td>\n",
       "      <td>Project Officer (Health Care Quality)</td>\n",
       "      <td>Sydney</td>\n",
       "      <td>Full Time</td>\n",
       "      <td>Healthcare &amp; Medical</td>\n",
       "      <td>The Australian Council on Healthcare Standards...</td>\n",
       "      <td>0</td>\n",
       "      <td>2018</td>\n",
       "      <td>10</td>\n",
       "      <td>Project Officer (Health Care Quality) The Aust...</td>\n",
       "    </tr>\n",
       "    <tr>\n",
       "      <th>4</th>\n",
       "      <td>https://www.seek.com.au/job/37493010?type=stan...</td>\n",
       "      <td>BUSINESS ANALYST</td>\n",
       "      <td>Melbourne</td>\n",
       "      <td>Full Time</td>\n",
       "      <td>Accounting</td>\n",
       "      <td>About us: Sabco is a leading company in the ma...</td>\n",
       "      <td>0</td>\n",
       "      <td>2018</td>\n",
       "      <td>10</td>\n",
       "      <td>BUSINESS ANALYST About us: Sabco is a leading ...</td>\n",
       "    </tr>\n",
       "  </tbody>\n",
       "</table>\n",
       "</div>"
      ],
      "text/plain": [
       "                                                 url  \\\n",
       "0  https://www.seek.com.au/job/37479102?type=stan...   \n",
       "1  https://www.seek.com.au/job/37475861?type=stan...   \n",
       "2  https://www.seek.com.au/job/37470414?type=stan...   \n",
       "3  https://www.seek.com.au/job/37522558?type=stan...   \n",
       "4  https://www.seek.com.au/job/37493010?type=stan...   \n",
       "\n",
       "                               job_title   location employment_type  \\\n",
       "0                  Divisional Accountant   Adelaide       Full Time   \n",
       "1         Customer Service - 11am - 7pm      Sydney       Full Time   \n",
       "2                  Data Analyst - Looker     Sydney       Full Time   \n",
       "3  Project Officer (Health Care Quality)     Sydney       Full Time   \n",
       "4                       BUSINESS ANALYST  Melbourne       Full Time   \n",
       "\n",
       "                            field  \\\n",
       "0                      Accounting   \n",
       "1  Call Centre & Customer Service   \n",
       "2           Consulting & Strategy   \n",
       "3            Healthcare & Medical   \n",
       "4                      Accounting   \n",
       "\n",
       "                                         description  pay  year  month  \\\n",
       "0  The role of Divisional Accountant will be well...    0  2018     10   \n",
       "1  A global sustainable solutions company in Macq...    0  2018     10   \n",
       "2    About the business and the role My client is...    0  2018     10   \n",
       "3  The Australian Council on Healthcare Standards...    0  2018     10   \n",
       "4  About us: Sabco is a leading company in the ma...    0  2018     10   \n",
       "\n",
       "                                    full_description  \n",
       "0  Divisional Accountant The role of Divisional A...  \n",
       "1  Customer Service - 11am - 7pm  A global sustai...  \n",
       "2  Data Analyst - Looker   About the business and...  \n",
       "3  Project Officer (Health Care Quality) The Aust...  \n",
       "4  BUSINESS ANALYST About us: Sabco is a leading ...  "
      ]
     },
     "execution_count": 25,
     "metadata": {},
     "output_type": "execute_result"
    }
   ],
   "source": [
    "df.head()"
   ]
  },
  {
   "cell_type": "code",
   "execution_count": 26,
   "metadata": {},
   "outputs": [],
   "source": [
    "df = df.drop(columns = ['job_title', 'description'])"
   ]
  },
  {
   "cell_type": "code",
   "execution_count": 27,
   "metadata": {},
   "outputs": [
    {
     "data": {
      "text/html": [
       "<div>\n",
       "<style scoped>\n",
       "    .dataframe tbody tr th:only-of-type {\n",
       "        vertical-align: middle;\n",
       "    }\n",
       "\n",
       "    .dataframe tbody tr th {\n",
       "        vertical-align: top;\n",
       "    }\n",
       "\n",
       "    .dataframe thead th {\n",
       "        text-align: right;\n",
       "    }\n",
       "</style>\n",
       "<table border=\"1\" class=\"dataframe\">\n",
       "  <thead>\n",
       "    <tr style=\"text-align: right;\">\n",
       "      <th></th>\n",
       "      <th>url</th>\n",
       "      <th>location</th>\n",
       "      <th>employment_type</th>\n",
       "      <th>field</th>\n",
       "      <th>pay</th>\n",
       "      <th>year</th>\n",
       "      <th>month</th>\n",
       "      <th>full_description</th>\n",
       "    </tr>\n",
       "  </thead>\n",
       "  <tbody>\n",
       "    <tr>\n",
       "      <th>0</th>\n",
       "      <td>https://www.seek.com.au/job/37479102?type=stan...</td>\n",
       "      <td>Adelaide</td>\n",
       "      <td>Full Time</td>\n",
       "      <td>Accounting</td>\n",
       "      <td>0</td>\n",
       "      <td>2018</td>\n",
       "      <td>10</td>\n",
       "      <td>Divisional Accountant The role of Divisional A...</td>\n",
       "    </tr>\n",
       "    <tr>\n",
       "      <th>1</th>\n",
       "      <td>https://www.seek.com.au/job/37475861?type=stan...</td>\n",
       "      <td>Sydney</td>\n",
       "      <td>Full Time</td>\n",
       "      <td>Call Centre &amp; Customer Service</td>\n",
       "      <td>0</td>\n",
       "      <td>2018</td>\n",
       "      <td>10</td>\n",
       "      <td>Customer Service - 11am - 7pm  A global sustai...</td>\n",
       "    </tr>\n",
       "    <tr>\n",
       "      <th>2</th>\n",
       "      <td>https://www.seek.com.au/job/37470414?type=stan...</td>\n",
       "      <td>Sydney</td>\n",
       "      <td>Full Time</td>\n",
       "      <td>Consulting &amp; Strategy</td>\n",
       "      <td>0</td>\n",
       "      <td>2018</td>\n",
       "      <td>10</td>\n",
       "      <td>Data Analyst - Looker   About the business and...</td>\n",
       "    </tr>\n",
       "    <tr>\n",
       "      <th>3</th>\n",
       "      <td>https://www.seek.com.au/job/37522558?type=stan...</td>\n",
       "      <td>Sydney</td>\n",
       "      <td>Full Time</td>\n",
       "      <td>Healthcare &amp; Medical</td>\n",
       "      <td>0</td>\n",
       "      <td>2018</td>\n",
       "      <td>10</td>\n",
       "      <td>Project Officer (Health Care Quality) The Aust...</td>\n",
       "    </tr>\n",
       "    <tr>\n",
       "      <th>4</th>\n",
       "      <td>https://www.seek.com.au/job/37493010?type=stan...</td>\n",
       "      <td>Melbourne</td>\n",
       "      <td>Full Time</td>\n",
       "      <td>Accounting</td>\n",
       "      <td>0</td>\n",
       "      <td>2018</td>\n",
       "      <td>10</td>\n",
       "      <td>BUSINESS ANALYST About us: Sabco is a leading ...</td>\n",
       "    </tr>\n",
       "  </tbody>\n",
       "</table>\n",
       "</div>"
      ],
      "text/plain": [
       "                                                 url   location  \\\n",
       "0  https://www.seek.com.au/job/37479102?type=stan...   Adelaide   \n",
       "1  https://www.seek.com.au/job/37475861?type=stan...     Sydney   \n",
       "2  https://www.seek.com.au/job/37470414?type=stan...     Sydney   \n",
       "3  https://www.seek.com.au/job/37522558?type=stan...     Sydney   \n",
       "4  https://www.seek.com.au/job/37493010?type=stan...  Melbourne   \n",
       "\n",
       "  employment_type                           field  pay  year  month  \\\n",
       "0       Full Time                      Accounting    0  2018     10   \n",
       "1       Full Time  Call Centre & Customer Service    0  2018     10   \n",
       "2       Full Time           Consulting & Strategy    0  2018     10   \n",
       "3       Full Time            Healthcare & Medical    0  2018     10   \n",
       "4       Full Time                      Accounting    0  2018     10   \n",
       "\n",
       "                                    full_description  \n",
       "0  Divisional Accountant The role of Divisional A...  \n",
       "1  Customer Service - 11am - 7pm  A global sustai...  \n",
       "2  Data Analyst - Looker   About the business and...  \n",
       "3  Project Officer (Health Care Quality) The Aust...  \n",
       "4  BUSINESS ANALYST About us: Sabco is a leading ...  "
      ]
     },
     "execution_count": 27,
     "metadata": {},
     "output_type": "execute_result"
    }
   ],
   "source": [
    "df.head()"
   ]
  },
  {
   "cell_type": "markdown",
   "metadata": {},
   "source": [
    "#### Look at location and convert to states only"
   ]
  },
  {
   "cell_type": "code",
   "execution_count": 28,
   "metadata": {},
   "outputs": [],
   "source": [
    "location_list = df.location.unique().tolist()"
   ]
  },
  {
   "cell_type": "code",
   "execution_count": 29,
   "metadata": {},
   "outputs": [],
   "source": [
    "from geopy.geocoders import Nominatim"
   ]
  },
  {
   "cell_type": "code",
   "execution_count": 30,
   "metadata": {},
   "outputs": [],
   "source": [
    "def getAddress(value):\n",
    "    try:\n",
    "        geolocator = Nominatim(user_agent=\"specify_your_app_name_here\")\n",
    "        location = geolocator.geocode(str(value))\n",
    "\n",
    "        address = location.address\n",
    "    except:\n",
    "        address = None\n",
    "    \n",
    "    return address"
   ]
  },
  {
   "cell_type": "code",
   "execution_count": 31,
   "metadata": {},
   "outputs": [
    {
     "data": {
      "text/plain": [
       "63"
      ]
     },
     "execution_count": 31,
     "metadata": {},
     "output_type": "execute_result"
    }
   ],
   "source": [
    "len(location_list)"
   ]
  },
  {
   "cell_type": "code",
   "execution_count": 32,
   "metadata": {},
   "outputs": [
    {
     "data": {
      "application/vnd.jupyter.widget-view+json": {
       "model_id": "534b72e0276a45f6937116c853b5372c",
       "version_major": 2,
       "version_minor": 0
      },
      "text/plain": [
       "VBox(children=(HTML(value=''), IntProgress(value=0, max=63)))"
      ]
     },
     "metadata": {},
     "output_type": "display_data"
    }
   ],
   "source": [
    "# use the geopy library to find the address of the location.\n",
    "geopy_translate_dict = {}\n",
    "address_list = []\n",
    "for location in log_progress(location_list):\n",
    "    if 'Lockyer' in location:\n",
    "        address_list.append('QLD')\n",
    "    elif 'Mackay' in location:\n",
    "        address_list.append('QLD')\n",
    "    elif 'Port Hedland' in location:\n",
    "        address_list.append('WA')\n",
    "    elif 'Cairns' in location:\n",
    "        address_list.append('QLD')\n",
    "    elif 'Yarra Valley' in location:\n",
    "        address_list.append('VIC')\n",
    "    elif 'Whyalla' in location:\n",
    "        address_list.append('SA')\n",
    "    elif 'Bundaberg' in location:\n",
    "        address_list.append('QLD')\n",
    "    elif 'Bendigo' in location:\n",
    "        address_list.append('VIC')\n",
    "    elif 'Albany' in location:\n",
    "        address_list.append('WA')\n",
    "    elif 'Fleurieu Peninsula' in location:\n",
    "        address_list.append('SA')\n",
    "    elif 'Geraldton' in location:\n",
    "        address_list.append('WA')\n",
    "    elif 'Kalgoorlie' in location:\n",
    "        address_list.append('WA')\n",
    "    elif 'Adelaide' in location:\n",
    "        address_list.append('SA')\n",
    "    elif 'Port Macquarie' in location:\n",
    "        address_list.append('NSW')\n",
    "    elif 'Lismore' in location:\n",
    "        address_list.append('NSW')\n",
    "    elif 'Mornington Peninsula' in location:\n",
    "        address_list.append('VIC')\n",
    "    elif 'Coober Pedy' in location:\n",
    "        address_list.append('SA')\n",
    "    elif 'Yorke Peninsula' in location:\n",
    "        address_list.append('SA')\n",
    "    elif 'Northam' in location:\n",
    "        address_list.append('WA')\n",
    "    elif 'Tamworth & North West NSW' in location:\n",
    "        address_list.append('NSW')\n",
    "    elif 'Southern Highlands & Tablelands' in location:\n",
    "        address_list.append('NSW')\n",
    "    elif 'Riverland & Murray Mallee' in location:\n",
    "        address_list.append('SA')\n",
    "    else:\n",
    "        try:\n",
    "            new_address = getAddress(location)\n",
    "            address_list.append(new_address)\n",
    "            geopy_translate_dict[location] = new_address\n",
    "        except:\n",
    "            address_list.append(location)\n",
    "        "
   ]
  },
  {
   "cell_type": "code",
   "execution_count": 33,
   "metadata": {},
   "outputs": [
    {
     "data": {
      "text/plain": [
       "{'Sydney': 'Sydney, NSW, Australia',\n",
       " 'Melbourne': 'Melbourne, City of Melbourne, Victoria, 3000, Australia',\n",
       " 'Perth': 'Perth, Western Australia, 6000, Australia',\n",
       " 'Brisbane': 'Brisbane, QLD, Australia',\n",
       " 'South West Coast VIC': 'South-West Coast, Booths Road, Bessiebelle, Shire of Moyne, Barwon South West, Victoria, Australia',\n",
       " 'Gold Coast': 'Gold Coast, QLD, 4217, Australia',\n",
       " 'ACT': 'Australian Capital Territory, Australia',\n",
       " 'Newcastle, Maitland & Hunter': 'John Hunter Hospital, Kookaburra Circuit, New Lambton Heights, Newcastle-Maitland, Newcastle, NSW, 2305, Australia',\n",
       " 'Darwin': 'Darwin, City of Darwin, Northern Territory, 0800, Australia',\n",
       " 'Northern QLD': 'Shelbourne Northern Outpost, QLD, Australia',\n",
       " 'Gosford & Central Coast': 'Gosford, Central Coast, NSW, 2250, Australia',\n",
       " 'West Gippsland & Latrobe Valley': 'Latrobe, Ring Road, Wilsons Promontory, Tidal River, Shire of South Gippsland, Gippsland, Victoria, 3960, Australia',\n",
       " 'Wollongong, Illawarra & South Coast': 'Illawarra Coast Range, Firetrail No. 15, Mount Murray, Wollongong, NSW, 2577, Australia',\n",
       " 'Wagga Wagga & Riverina': 'Museum Of The Riverina, Baylis Street, Wagga Wagga, Pregan Island, Wagga Wagga, NSW, 2650, Australia',\n",
       " 'Bairnsdale & Gippsland': 'Bairnsdale, Shire of East Gippsland, Gippsland, Victoria, 3875, Australia',\n",
       " 'Rockhampton & Capricorn Coast': 'Capricorn Coast National Park, Svendson Road, Zilzie, Rockhampton, QLD, 4710, Australia',\n",
       " 'Sunshine Coast': 'Sunshine Coast, Maroochydore, QLD, 4573, Australia',\n",
       " 'Toowoomba & Darling Downs': 'Darling Downs Rifle Club, Mount Lofty, Toowoomba, QLD, Australia',\n",
       " 'Coffs Harbour & North Coast': 'Rare and Endangered (North Coast), Creek Walk, Coffs Harbour, NSW, 2450, Australia',\n",
       " 'Horsham & Grampians': 'Horsham, Rural City of Horsham, Grampians, Victoria, 3400, Australia',\n",
       " 'Western QLD': 'Western Creek, Brisbane, QLD, 4065, Australia',\n",
       " 'Mt Gambier & Limestone Coast': 'Limestone Coast Tourist Park, Jubilee Highway East, Glenburnie, City of Mount Gambier, South Australia, 5291, Australia',\n",
       " 'Hobart': 'Hobart, Tasmania, Australia',\n",
       " 'Ballarat & Central Highlands': 'Central Highlands Regional Library Corp. Ballarat branch, 178, Doveton Street North, Ballarat Central, Ballarat, City of Ballarat, Grampians, Victoria, 3350, Australia',\n",
       " 'Blue Mountains & Central West': 'Blue Mountains, NSW, Australia',\n",
       " 'Mildura & Murray': 'Murray-Sunset, Rural City of Mildura, Loddon Mallee, Victoria, Australia',\n",
       " 'Hervey Bay & Fraser Coast': 'University of Sunshine Coast - Fraser Coast Campus, 165-175, Old Maryborough Road, Pialba, Hervey Bay, QLD, 4655, Australia',\n",
       " 'Dubbo & Central NSW': 'Dubbo, Western Plains, NSW, Australia',\n",
       " 'Launceston & North East': 'Launceston, Tasmania, 7250, Australia',\n",
       " 'Shepparton & Goulburn Valley': 'Goulburn Valley Freeway (Shepparton Bypass), Mooroopna, Shepparton, City of Greater Shepparton, Hume, Victoria, 3630, Australia',\n",
       " 'Gladstone & Central QLD': 'Gladstone, QLD, 4680, Australia',\n",
       " 'Alice Springs & Central Australia': 'Alice Springs, Town of Alice Springs, Northern Territory, 0870, Australia',\n",
       " 'Richmond & Hawkesbury': 'Richmond, Sydney, Hawkesbury, NSW, 2753, Australia',\n",
       " 'Bunbury & South West': 'Bunbury, Western Australia, 6230, Australia',\n",
       " 'Katherine & Northern Australia': 'Katherine, Town of Katherine, Northern Territory, 0850, Australia',\n",
       " 'Albury Area': 'Blue Metal Hill Rest Area, Woomargama, Greater Hume, NSW, 2644, Australia',\n",
       " 'Mandurah & Peel': 'Peel Main Drain, Perth, Western Australia, 6167, Australia',\n",
       " 'Central & South East TAS': 'Tasmania, Australia',\n",
       " 'Tumut, Snowy & Monaro': 'Tumut Street, Cooma, Snowy Monaro, NSW, 2630, Australia',\n",
       " 'Broome & Kimberley': 'Kimberley Kids, Cryer Court, Cable Beach, Broome, Western Australia, 6726, Australia'}"
      ]
     },
     "execution_count": 33,
     "metadata": {},
     "output_type": "execute_result"
    }
   ],
   "source": [
    "geopy_translate_dict"
   ]
  },
  {
   "cell_type": "code",
   "execution_count": 34,
   "metadata": {},
   "outputs": [],
   "source": [
    "# Convert those addresses to states\n",
    "state_list = []\n",
    "for address in address_list:\n",
    "    try:\n",
    "        if 'Victoria' in address or 'VIC' in address:\n",
    "            state_list.append('VIC')\n",
    "        elif 'South Wales' in address or 'NSW' in address:\n",
    "            state_list.append('NSW')\n",
    "        elif 'Queensland' in address or 'QLD' in address:\n",
    "            state_list.append('QLD')\n",
    "        elif 'South Australia' in address or 'SA' in address:\n",
    "            state_list.append('SA')\n",
    "        elif 'Northern Territory' in address or 'NT' in address:\n",
    "            state_list.append('NT')\n",
    "        elif 'Western Australia' in address or 'WA' in address:\n",
    "            state_list.append('NT')\n",
    "        elif 'Tasmania' in address or 'TAS' in address:\n",
    "            state_list.append('TAS')\n",
    "        elif 'Australian Capital Territory' in address or 'ACT' in address:\n",
    "            state_list.append('ACT')\n",
    "        \n",
    "        \n",
    "        else:\n",
    "            state_list.append(address)\n",
    "    except:\n",
    "        state_list.append(address)\n",
    "    "
   ]
  },
  {
   "cell_type": "code",
   "execution_count": 35,
   "metadata": {},
   "outputs": [
    {
     "data": {
      "text/plain": [
       "[]"
      ]
     },
     "execution_count": 35,
     "metadata": {},
     "output_type": "execute_result"
    }
   ],
   "source": [
    "# Following code checks for failed translations\n",
    "indices = [i for i, x in enumerate(state_list) if x == None]\n",
    "\n",
    "# get list of location not translated by geopy\n",
    "translate_fail = []\n",
    "for i in indices:\n",
    "    translate_fail.append(location_list[i])\n",
    "    \n",
    "translate_fail"
   ]
  },
  {
   "cell_type": "code",
   "execution_count": 36,
   "metadata": {},
   "outputs": [],
   "source": [
    "## create an address translation dictionary\n",
    "location_translate_dict = {}\n",
    "for i, location in enumerate(location_list):\n",
    "    location_translate_dict[location] = state_list[i]\n",
    "    "
   ]
  },
  {
   "cell_type": "code",
   "execution_count": 37,
   "metadata": {},
   "outputs": [],
   "source": [
    "def translateLocation(value):\n",
    "    return location_translate_dict[value]"
   ]
  },
  {
   "cell_type": "code",
   "execution_count": 38,
   "metadata": {},
   "outputs": [],
   "source": [
    "df['state'] = df.location.apply(translateLocation)"
   ]
  },
  {
   "cell_type": "code",
   "execution_count": 39,
   "metadata": {},
   "outputs": [],
   "source": [
    "# drop original location\n",
    "df.drop(columns = ['location'], inplace = True)"
   ]
  },
  {
   "cell_type": "markdown",
   "metadata": {},
   "source": [
    "#### Look at the unique years, month"
   ]
  },
  {
   "cell_type": "code",
   "execution_count": 40,
   "metadata": {},
   "outputs": [],
   "source": [
    "df.drop(columns = ['month', 'year'], inplace = True)"
   ]
  },
  {
   "cell_type": "code",
   "execution_count": 41,
   "metadata": {},
   "outputs": [
    {
     "data": {
      "text/html": [
       "<div>\n",
       "<style scoped>\n",
       "    .dataframe tbody tr th:only-of-type {\n",
       "        vertical-align: middle;\n",
       "    }\n",
       "\n",
       "    .dataframe tbody tr th {\n",
       "        vertical-align: top;\n",
       "    }\n",
       "\n",
       "    .dataframe thead th {\n",
       "        text-align: right;\n",
       "    }\n",
       "</style>\n",
       "<table border=\"1\" class=\"dataframe\">\n",
       "  <thead>\n",
       "    <tr style=\"text-align: right;\">\n",
       "      <th></th>\n",
       "      <th>url</th>\n",
       "      <th>employment_type</th>\n",
       "      <th>field</th>\n",
       "      <th>pay</th>\n",
       "      <th>full_description</th>\n",
       "      <th>state</th>\n",
       "    </tr>\n",
       "  </thead>\n",
       "  <tbody>\n",
       "    <tr>\n",
       "      <th>0</th>\n",
       "      <td>https://www.seek.com.au/job/37479102?type=stan...</td>\n",
       "      <td>Full Time</td>\n",
       "      <td>Accounting</td>\n",
       "      <td>0</td>\n",
       "      <td>Divisional Accountant The role of Divisional A...</td>\n",
       "      <td>SA</td>\n",
       "    </tr>\n",
       "    <tr>\n",
       "      <th>1</th>\n",
       "      <td>https://www.seek.com.au/job/37475861?type=stan...</td>\n",
       "      <td>Full Time</td>\n",
       "      <td>Call Centre &amp; Customer Service</td>\n",
       "      <td>0</td>\n",
       "      <td>Customer Service - 11am - 7pm  A global sustai...</td>\n",
       "      <td>NSW</td>\n",
       "    </tr>\n",
       "    <tr>\n",
       "      <th>2</th>\n",
       "      <td>https://www.seek.com.au/job/37470414?type=stan...</td>\n",
       "      <td>Full Time</td>\n",
       "      <td>Consulting &amp; Strategy</td>\n",
       "      <td>0</td>\n",
       "      <td>Data Analyst - Looker   About the business and...</td>\n",
       "      <td>NSW</td>\n",
       "    </tr>\n",
       "    <tr>\n",
       "      <th>3</th>\n",
       "      <td>https://www.seek.com.au/job/37522558?type=stan...</td>\n",
       "      <td>Full Time</td>\n",
       "      <td>Healthcare &amp; Medical</td>\n",
       "      <td>0</td>\n",
       "      <td>Project Officer (Health Care Quality) The Aust...</td>\n",
       "      <td>NSW</td>\n",
       "    </tr>\n",
       "    <tr>\n",
       "      <th>4</th>\n",
       "      <td>https://www.seek.com.au/job/37493010?type=stan...</td>\n",
       "      <td>Full Time</td>\n",
       "      <td>Accounting</td>\n",
       "      <td>0</td>\n",
       "      <td>BUSINESS ANALYST About us: Sabco is a leading ...</td>\n",
       "      <td>VIC</td>\n",
       "    </tr>\n",
       "  </tbody>\n",
       "</table>\n",
       "</div>"
      ],
      "text/plain": [
       "                                                 url employment_type  \\\n",
       "0  https://www.seek.com.au/job/37479102?type=stan...       Full Time   \n",
       "1  https://www.seek.com.au/job/37475861?type=stan...       Full Time   \n",
       "2  https://www.seek.com.au/job/37470414?type=stan...       Full Time   \n",
       "3  https://www.seek.com.au/job/37522558?type=stan...       Full Time   \n",
       "4  https://www.seek.com.au/job/37493010?type=stan...       Full Time   \n",
       "\n",
       "                            field  pay  \\\n",
       "0                      Accounting    0   \n",
       "1  Call Centre & Customer Service    0   \n",
       "2           Consulting & Strategy    0   \n",
       "3            Healthcare & Medical    0   \n",
       "4                      Accounting    0   \n",
       "\n",
       "                                    full_description state  \n",
       "0  Divisional Accountant The role of Divisional A...    SA  \n",
       "1  Customer Service - 11am - 7pm  A global sustai...   NSW  \n",
       "2  Data Analyst - Looker   About the business and...   NSW  \n",
       "3  Project Officer (Health Care Quality) The Aust...   NSW  \n",
       "4  BUSINESS ANALYST About us: Sabco is a leading ...   VIC  "
      ]
     },
     "execution_count": 41,
     "metadata": {},
     "output_type": "execute_result"
    }
   ],
   "source": [
    "df.head()"
   ]
  },
  {
   "cell_type": "code",
   "execution_count": 42,
   "metadata": {},
   "outputs": [
    {
     "data": {
      "text/plain": [
       "array(['Accounting', 'Call Centre & Customer Service',\n",
       "       'Consulting & Strategy', 'Healthcare & Medical',\n",
       "       'Trades & Services', 'Science & Technology', 'Engineering',\n",
       "       'Information & Communication Technology',\n",
       "       'Manufacturing, Transport & Logistics',\n",
       "       'Human Resources & Recruitment', 'Banking & Financial Services',\n",
       "       'Government & Defence', 'Administration & Office Support',\n",
       "       'Advertising, Arts & Media', 'Mining, Resources & Energy', 'Sales',\n",
       "       'Marketing & Communications', 'Real Estate & Property',\n",
       "       'Education & Training', 'Insurance & Superannuation', 'Legal',\n",
       "       'Farming, Animals & Conservation', 'Construction',\n",
       "       'Community Services & Development', 'Retail & Consumer Products',\n",
       "       'Hospitality & Tourism', 'CEO & General Management',\n",
       "       'Design & Architecture', 'Sport & Recreation'], dtype=object)"
      ]
     },
     "execution_count": 42,
     "metadata": {},
     "output_type": "execute_result"
    }
   ],
   "source": [
    "df.field.unique()"
   ]
  },
  {
   "cell_type": "code",
   "execution_count": 43,
   "metadata": {},
   "outputs": [
    {
     "data": {
      "text/plain": [
       "Full Time          5116\n",
       "Contract/Temp      1952\n",
       "Part Time           299\n",
       "Casual/Vacation     191\n",
       "Name: employment_type, dtype: int64"
      ]
     },
     "execution_count": 43,
     "metadata": {},
     "output_type": "execute_result"
    }
   ],
   "source": [
    "df.employment_type.value_counts()"
   ]
  },
  {
   "cell_type": "code",
   "execution_count": 44,
   "metadata": {},
   "outputs": [
    {
     "data": {
      "text/plain": [
       "<matplotlib.axes._subplots.AxesSubplot at 0x1a1c1db748>"
      ]
     },
     "execution_count": 44,
     "metadata": {},
     "output_type": "execute_result"
    },
    {
     "data": {
      "image/png": "[encoded data removed]",
      "text/plain": [
       "<Figure size 432x288 with 1 Axes>"
      ]
     },
     "metadata": {
      "image/png": {
       "height": 356,
       "width": 383
      }
     },
     "output_type": "display_data"
    }
   ],
   "source": [
    "df.groupby(['pay','employment_type'])[['employment_type']].count().plot(kind = 'bar')"
   ]
  },
  {
   "cell_type": "code",
   "execution_count": 45,
   "metadata": {},
   "outputs": [
    {
     "data": {
      "text/html": [
       "<div>\n",
       "<style scoped>\n",
       "    .dataframe tbody tr th:only-of-type {\n",
       "        vertical-align: middle;\n",
       "    }\n",
       "\n",
       "    .dataframe tbody tr th {\n",
       "        vertical-align: top;\n",
       "    }\n",
       "\n",
       "    .dataframe thead th {\n",
       "        text-align: right;\n",
       "    }\n",
       "</style>\n",
       "<table border=\"1\" class=\"dataframe\">\n",
       "  <thead>\n",
       "    <tr style=\"text-align: right;\">\n",
       "      <th></th>\n",
       "      <th>url</th>\n",
       "      <th>employment_type</th>\n",
       "      <th>field</th>\n",
       "      <th>pay</th>\n",
       "      <th>full_description</th>\n",
       "      <th>state</th>\n",
       "    </tr>\n",
       "  </thead>\n",
       "  <tbody>\n",
       "    <tr>\n",
       "      <th>0</th>\n",
       "      <td>https://www.seek.com.au/job/37479102?type=stan...</td>\n",
       "      <td>Full Time</td>\n",
       "      <td>Accounting</td>\n",
       "      <td>0</td>\n",
       "      <td>Divisional Accountant The role of Divisional A...</td>\n",
       "      <td>SA</td>\n",
       "    </tr>\n",
       "    <tr>\n",
       "      <th>1</th>\n",
       "      <td>https://www.seek.com.au/job/37475861?type=stan...</td>\n",
       "      <td>Full Time</td>\n",
       "      <td>Call Centre &amp; Customer Service</td>\n",
       "      <td>0</td>\n",
       "      <td>Customer Service - 11am - 7pm  A global sustai...</td>\n",
       "      <td>NSW</td>\n",
       "    </tr>\n",
       "    <tr>\n",
       "      <th>2</th>\n",
       "      <td>https://www.seek.com.au/job/37470414?type=stan...</td>\n",
       "      <td>Full Time</td>\n",
       "      <td>Consulting &amp; Strategy</td>\n",
       "      <td>0</td>\n",
       "      <td>Data Analyst - Looker   About the business and...</td>\n",
       "      <td>NSW</td>\n",
       "    </tr>\n",
       "    <tr>\n",
       "      <th>3</th>\n",
       "      <td>https://www.seek.com.au/job/37522558?type=stan...</td>\n",
       "      <td>Full Time</td>\n",
       "      <td>Healthcare &amp; Medical</td>\n",
       "      <td>0</td>\n",
       "      <td>Project Officer (Health Care Quality) The Aust...</td>\n",
       "      <td>NSW</td>\n",
       "    </tr>\n",
       "    <tr>\n",
       "      <th>4</th>\n",
       "      <td>https://www.seek.com.au/job/37493010?type=stan...</td>\n",
       "      <td>Full Time</td>\n",
       "      <td>Accounting</td>\n",
       "      <td>0</td>\n",
       "      <td>BUSINESS ANALYST About us: Sabco is a leading ...</td>\n",
       "      <td>VIC</td>\n",
       "    </tr>\n",
       "  </tbody>\n",
       "</table>\n",
       "</div>"
      ],
      "text/plain": [
       "                                                 url employment_type  \\\n",
       "0  https://www.seek.com.au/job/37479102?type=stan...       Full Time   \n",
       "1  https://www.seek.com.au/job/37475861?type=stan...       Full Time   \n",
       "2  https://www.seek.com.au/job/37470414?type=stan...       Full Time   \n",
       "3  https://www.seek.com.au/job/37522558?type=stan...       Full Time   \n",
       "4  https://www.seek.com.au/job/37493010?type=stan...       Full Time   \n",
       "\n",
       "                            field  pay  \\\n",
       "0                      Accounting    0   \n",
       "1  Call Centre & Customer Service    0   \n",
       "2           Consulting & Strategy    0   \n",
       "3            Healthcare & Medical    0   \n",
       "4                      Accounting    0   \n",
       "\n",
       "                                    full_description state  \n",
       "0  Divisional Accountant The role of Divisional A...    SA  \n",
       "1  Customer Service - 11am - 7pm  A global sustai...   NSW  \n",
       "2  Data Analyst - Looker   About the business and...   NSW  \n",
       "3  Project Officer (Health Care Quality) The Aust...   NSW  \n",
       "4  BUSINESS ANALYST About us: Sabco is a leading ...   VIC  "
      ]
     },
     "execution_count": 45,
     "metadata": {},
     "output_type": "execute_result"
    }
   ],
   "source": [
    "df.head()"
   ]
  },
  {
   "cell_type": "markdown",
   "metadata": {},
   "source": [
    "### Basic EDA"
   ]
  },
  {
   "cell_type": "code",
   "execution_count": 46,
   "metadata": {},
   "outputs": [],
   "source": [
    "from cLiML.eda import edaCategorical"
   ]
  },
  {
   "cell_type": "code",
   "execution_count": 47,
   "metadata": {},
   "outputs": [
    {
     "data": {
      "image/png": "[encoded data removed]",
      "text/plain": [
       "<Figure size 1152x1152 with 4 Axes>"
      ]
     },
     "metadata": {
      "image/png": {
       "height": 930,
       "width": 938
      }
     },
     "output_type": "display_data"
    }
   ],
   "source": [
    "edaCategorical(df[['employment_type', 'field', 'state', 'pay']], target = 'pay',aggre = 'mean', max_y_axis = 1.1)"
   ]
  },
  {
   "cell_type": "markdown",
   "metadata": {},
   "source": [
    "### Train Test Split"
   ]
  },
  {
   "cell_type": "code",
   "execution_count": 48,
   "metadata": {},
   "outputs": [],
   "source": [
    "from sklearn.model_selection import train_test_split"
   ]
  },
  {
   "cell_type": "code",
   "execution_count": 49,
   "metadata": {},
   "outputs": [
    {
     "data": {
      "text/html": [
       "<div>\n",
       "<style scoped>\n",
       "    .dataframe tbody tr th:only-of-type {\n",
       "        vertical-align: middle;\n",
       "    }\n",
       "\n",
       "    .dataframe tbody tr th {\n",
       "        vertical-align: top;\n",
       "    }\n",
       "\n",
       "    .dataframe thead th {\n",
       "        text-align: right;\n",
       "    }\n",
       "</style>\n",
       "<table border=\"1\" class=\"dataframe\">\n",
       "  <thead>\n",
       "    <tr style=\"text-align: right;\">\n",
       "      <th></th>\n",
       "      <th>url</th>\n",
       "      <th>employment_type</th>\n",
       "      <th>field</th>\n",
       "      <th>pay</th>\n",
       "      <th>full_description</th>\n",
       "      <th>state</th>\n",
       "    </tr>\n",
       "  </thead>\n",
       "  <tbody>\n",
       "    <tr>\n",
       "      <th>0</th>\n",
       "      <td>https://www.seek.com.au/job/37479102?type=stan...</td>\n",
       "      <td>Full Time</td>\n",
       "      <td>Accounting</td>\n",
       "      <td>0</td>\n",
       "      <td>Divisional Accountant The role of Divisional A...</td>\n",
       "      <td>SA</td>\n",
       "    </tr>\n",
       "    <tr>\n",
       "      <th>1</th>\n",
       "      <td>https://www.seek.com.au/job/37475861?type=stan...</td>\n",
       "      <td>Full Time</td>\n",
       "      <td>Call Centre &amp; Customer Service</td>\n",
       "      <td>0</td>\n",
       "      <td>Customer Service - 11am - 7pm  A global sustai...</td>\n",
       "      <td>NSW</td>\n",
       "    </tr>\n",
       "    <tr>\n",
       "      <th>2</th>\n",
       "      <td>https://www.seek.com.au/job/37470414?type=stan...</td>\n",
       "      <td>Full Time</td>\n",
       "      <td>Consulting &amp; Strategy</td>\n",
       "      <td>0</td>\n",
       "      <td>Data Analyst - Looker   About the business and...</td>\n",
       "      <td>NSW</td>\n",
       "    </tr>\n",
       "    <tr>\n",
       "      <th>3</th>\n",
       "      <td>https://www.seek.com.au/job/37522558?type=stan...</td>\n",
       "      <td>Full Time</td>\n",
       "      <td>Healthcare &amp; Medical</td>\n",
       "      <td>0</td>\n",
       "      <td>Project Officer (Health Care Quality) The Aust...</td>\n",
       "      <td>NSW</td>\n",
       "    </tr>\n",
       "    <tr>\n",
       "      <th>4</th>\n",
       "      <td>https://www.seek.com.au/job/37493010?type=stan...</td>\n",
       "      <td>Full Time</td>\n",
       "      <td>Accounting</td>\n",
       "      <td>0</td>\n",
       "      <td>BUSINESS ANALYST About us: Sabco is a leading ...</td>\n",
       "      <td>VIC</td>\n",
       "    </tr>\n",
       "  </tbody>\n",
       "</table>\n",
       "</div>"
      ],
      "text/plain": [
       "                                                 url employment_type  \\\n",
       "0  https://www.seek.com.au/job/37479102?type=stan...       Full Time   \n",
       "1  https://www.seek.com.au/job/37475861?type=stan...       Full Time   \n",
       "2  https://www.seek.com.au/job/37470414?type=stan...       Full Time   \n",
       "3  https://www.seek.com.au/job/37522558?type=stan...       Full Time   \n",
       "4  https://www.seek.com.au/job/37493010?type=stan...       Full Time   \n",
       "\n",
       "                            field  pay  \\\n",
       "0                      Accounting    0   \n",
       "1  Call Centre & Customer Service    0   \n",
       "2           Consulting & Strategy    0   \n",
       "3            Healthcare & Medical    0   \n",
       "4                      Accounting    0   \n",
       "\n",
       "                                    full_description state  \n",
       "0  Divisional Accountant The role of Divisional A...    SA  \n",
       "1  Customer Service - 11am - 7pm  A global sustai...   NSW  \n",
       "2  Data Analyst - Looker   About the business and...   NSW  \n",
       "3  Project Officer (Health Care Quality) The Aust...   NSW  \n",
       "4  BUSINESS ANALYST About us: Sabco is a leading ...   VIC  "
      ]
     },
     "execution_count": 49,
     "metadata": {},
     "output_type": "execute_result"
    }
   ],
   "source": [
    "df.head()"
   ]
  },
  {
   "cell_type": "code",
   "execution_count": 50,
   "metadata": {},
   "outputs": [],
   "source": [
    "X = df[['employment_type', 'field', 'full_description', 'state']]\n",
    "y = df['pay']"
   ]
  },
  {
   "cell_type": "code",
   "execution_count": 51,
   "metadata": {},
   "outputs": [],
   "source": [
    " X_train, X_test, y_train, y_test = train_test_split(X, y, test_size = 0.2, stratify = y)"
   ]
  },
  {
   "cell_type": "markdown",
   "metadata": {},
   "source": [
    "### Dummifying the categorical variables"
   ]
  },
  {
   "cell_type": "code",
   "execution_count": 52,
   "metadata": {},
   "outputs": [],
   "source": [
    "categorical_list = ['employment_type', 'field', 'state']"
   ]
  },
  {
   "cell_type": "code",
   "execution_count": 53,
   "metadata": {},
   "outputs": [],
   "source": [
    "from cLiML.model_prep import dummify, dummify_test, match_test_to_train_columns"
   ]
  },
  {
   "cell_type": "code",
   "execution_count": 54,
   "metadata": {},
   "outputs": [],
   "source": [
    "X_train = dummify(X_train, categorical_list)"
   ]
  },
  {
   "cell_type": "code",
   "execution_count": 55,
   "metadata": {},
   "outputs": [],
   "source": [
    "X_test = dummify_test(X_test, categorical_list)"
   ]
  },
  {
   "cell_type": "code",
   "execution_count": 56,
   "metadata": {},
   "outputs": [],
   "source": [
    "X_test = match_test_to_train_columns(X_test, X_train)"
   ]
  },
  {
   "cell_type": "code",
   "execution_count": 57,
   "metadata": {},
   "outputs": [
    {
     "data": {
      "text/plain": [
       "(6046, 38)"
      ]
     },
     "execution_count": 57,
     "metadata": {},
     "output_type": "execute_result"
    }
   ],
   "source": [
    "X_train.shape"
   ]
  },
  {
   "cell_type": "code",
   "execution_count": 58,
   "metadata": {},
   "outputs": [
    {
     "data": {
      "text/plain": [
       "(1512, 38)"
      ]
     },
     "execution_count": 58,
     "metadata": {},
     "output_type": "execute_result"
    }
   ],
   "source": [
    "X_test.shape"
   ]
  },
  {
   "cell_type": "code",
   "execution_count": 59,
   "metadata": {},
   "outputs": [
    {
     "data": {
      "text/plain": [
       "set()"
      ]
     },
     "execution_count": 59,
     "metadata": {},
     "output_type": "execute_result"
    }
   ],
   "source": [
    "set(X_train.columns.values.tolist()) - set(X_test.columns.values.tolist())"
   ]
  },
  {
   "cell_type": "markdown",
   "metadata": {},
   "source": [
    "### Stemming the words"
   ]
  },
  {
   "cell_type": "code",
   "execution_count": 60,
   "metadata": {},
   "outputs": [],
   "source": [
    "def stemSeries(value):\n",
    "    #from nltk.stem.lancaster import LancasterStemmer\n",
    "    from nltk.stem import PorterStemmer\n",
    "    \n",
    "    # clean up \n",
    "    value = value.replace('\\xa0', ' ')\n",
    "    value = value.replace(',', ' ')\n",
    "    value = value.replace(';', ' ')\n",
    "    value = value.replace('.', ' ')\n",
    "    value = value.replace('\\n', ' ')\n",
    "    value = value.replace('\\r', ' ')\n",
    "    \n",
    "    # lower case\n",
    "    value = value.lower()\n",
    "    \n",
    "    # split into a list of words\n",
    "    words = value.split(' ')\n",
    "    \n",
    "    # remove empty strings\n",
    "    stemmed_list = []\n",
    "    stemmer = PorterStemmer()\n",
    "    for word in words:\n",
    "        if word != '':\n",
    "            try:\n",
    "                stemmed_list.append(stemmer.stem(word))\n",
    "            except:\n",
    "                stemmed_list.append(word)\n",
    "\n",
    "            \n",
    "    # join into a stemmed description\n",
    "    stemmed_des = ' '.join(stemmed_list)\n",
    "    \n",
    "    return stemmed_des"
   ]
  },
  {
   "cell_type": "code",
   "execution_count": 61,
   "metadata": {},
   "outputs": [
    {
     "data": {
      "application/vnd.jupyter.widget-view+json": {
       "model_id": "14f9a25716b34b9c87a0fdb010bf2ec6",
       "version_major": 2,
       "version_minor": 0
      },
      "text/plain": [
       "VBox(children=(HTML(value=''), IntProgress(value=0, max=6046)))"
      ]
     },
     "metadata": {},
     "output_type": "display_data"
    }
   ],
   "source": [
    "descriptions = []\n",
    "for description in log_progress(X_train.full_description.values.tolist()):\n",
    "    description = stemSeries(description)\n",
    "    descriptions.append(description)\n",
    "\n",
    "X_train['stemmed_description'] = descriptions"
   ]
  },
  {
   "cell_type": "code",
   "execution_count": 62,
   "metadata": {},
   "outputs": [
    {
     "data": {
      "application/vnd.jupyter.widget-view+json": {
       "model_id": "5056ef103d5b4e2bb81c967c4e1bb5fd",
       "version_major": 2,
       "version_minor": 0
      },
      "text/plain": [
       "VBox(children=(HTML(value=''), IntProgress(value=0, max=1512)))"
      ]
     },
     "metadata": {},
     "output_type": "display_data"
    }
   ],
   "source": [
    "descriptions = []\n",
    "for description in log_progress(X_test.full_description.values.tolist()):\n",
    "    description = stemSeries(description)\n",
    "    descriptions.append(description)\n",
    "\n",
    "X_test['stemmed_description'] = descriptions"
   ]
  },
  {
   "cell_type": "code",
   "execution_count": 63,
   "metadata": {},
   "outputs": [],
   "source": [
    "X_train = X_train.drop(columns = ['full_description'])"
   ]
  },
  {
   "cell_type": "code",
   "execution_count": 64,
   "metadata": {},
   "outputs": [],
   "source": [
    "X_test = X_test.drop(columns = ['full_description'])"
   ]
  },
  {
   "cell_type": "markdown",
   "metadata": {},
   "source": [
    "### Count Vectorising the descriptpion"
   ]
  },
  {
   "cell_type": "code",
   "execution_count": 65,
   "metadata": {},
   "outputs": [
    {
     "data": {
      "text/html": [
       "<div>\n",
       "<style scoped>\n",
       "    .dataframe tbody tr th:only-of-type {\n",
       "        vertical-align: middle;\n",
       "    }\n",
       "\n",
       "    .dataframe tbody tr th {\n",
       "        vertical-align: top;\n",
       "    }\n",
       "\n",
       "    .dataframe thead th {\n",
       "        text-align: right;\n",
       "    }\n",
       "</style>\n",
       "<table border=\"1\" class=\"dataframe\">\n",
       "  <thead>\n",
       "    <tr style=\"text-align: right;\">\n",
       "      <th></th>\n",
       "      <th>employment_type_Casual/Vacation</th>\n",
       "      <th>employment_type_Contract/Temp</th>\n",
       "      <th>employment_type_Full Time</th>\n",
       "      <th>field_Accounting</th>\n",
       "      <th>field_Administration &amp; Office Support</th>\n",
       "      <th>field_Advertising, Arts &amp; Media</th>\n",
       "      <th>field_Banking &amp; Financial Services</th>\n",
       "      <th>field_CEO &amp; General Management</th>\n",
       "      <th>field_Call Centre &amp; Customer Service</th>\n",
       "      <th>field_Community Services &amp; Development</th>\n",
       "      <th>...</th>\n",
       "      <th>field_Sales</th>\n",
       "      <th>field_Science &amp; Technology</th>\n",
       "      <th>field_Sport &amp; Recreation</th>\n",
       "      <th>state_ACT</th>\n",
       "      <th>state_NSW</th>\n",
       "      <th>state_NT</th>\n",
       "      <th>state_QLD</th>\n",
       "      <th>state_SA</th>\n",
       "      <th>state_TAS</th>\n",
       "      <th>stemmed_description</th>\n",
       "    </tr>\n",
       "  </thead>\n",
       "  <tbody>\n",
       "    <tr>\n",
       "      <th>247</th>\n",
       "      <td>0</td>\n",
       "      <td>0</td>\n",
       "      <td>1</td>\n",
       "      <td>0</td>\n",
       "      <td>0</td>\n",
       "      <td>0</td>\n",
       "      <td>0</td>\n",
       "      <td>0</td>\n",
       "      <td>0</td>\n",
       "      <td>0</td>\n",
       "      <td>...</td>\n",
       "      <td>0</td>\n",
       "      <td>0</td>\n",
       "      <td>0</td>\n",
       "      <td>0</td>\n",
       "      <td>1</td>\n",
       "      <td>0</td>\n",
       "      <td>0</td>\n",
       "      <td>0</td>\n",
       "      <td>0</td>\n",
       "      <td>asset manag lead hawke' bay region council is ...</td>\n",
       "    </tr>\n",
       "  </tbody>\n",
       "</table>\n",
       "<p>1 rows × 38 columns</p>\n",
       "</div>"
      ],
      "text/plain": [
       "     employment_type_Casual/Vacation  employment_type_Contract/Temp  \\\n",
       "247                                0                              0   \n",
       "\n",
       "     employment_type_Full Time  field_Accounting  \\\n",
       "247                          1                 0   \n",
       "\n",
       "     field_Administration & Office Support  field_Advertising, Arts & Media  \\\n",
       "247                                      0                                0   \n",
       "\n",
       "     field_Banking & Financial Services  field_CEO & General Management  \\\n",
       "247                                   0                               0   \n",
       "\n",
       "     field_Call Centre & Customer Service  \\\n",
       "247                                     0   \n",
       "\n",
       "     field_Community Services & Development  \\\n",
       "247                                       0   \n",
       "\n",
       "                           ...                          field_Sales  \\\n",
       "247                        ...                                    0   \n",
       "\n",
       "     field_Science & Technology  field_Sport & Recreation  state_ACT  \\\n",
       "247                           0                         0          0   \n",
       "\n",
       "     state_NSW  state_NT  state_QLD  state_SA  state_TAS  \\\n",
       "247          1         0          0         0          0   \n",
       "\n",
       "                                   stemmed_description  \n",
       "247  asset manag lead hawke' bay region council is ...  \n",
       "\n",
       "[1 rows x 38 columns]"
      ]
     },
     "execution_count": 65,
     "metadata": {},
     "output_type": "execute_result"
    }
   ],
   "source": [
    "X_train.head(1)"
   ]
  },
  {
   "cell_type": "code",
   "execution_count": 66,
   "metadata": {},
   "outputs": [],
   "source": [
    "from sklearn.feature_extraction.text import CountVectorizer"
   ]
  },
  {
   "cell_type": "code",
   "execution_count": 67,
   "metadata": {},
   "outputs": [],
   "source": [
    "vect = CountVectorizer(stop_words = 'english', ngram_range = (1,2))\n",
    "X_train_vect = vect.fit_transform(X_train['stemmed_description'])\n",
    "X_test_vect = vect.transform(X_test['stemmed_description'])"
   ]
  },
  {
   "cell_type": "code",
   "execution_count": 68,
   "metadata": {},
   "outputs": [],
   "source": [
    "X_column_names = vect.get_feature_names()"
   ]
  },
  {
   "cell_type": "code",
   "execution_count": 69,
   "metadata": {},
   "outputs": [],
   "source": [
    "X_train_sparse = X_train_vect.toarray()\n",
    "X_test_sparse = X_test_vect.toarray()"
   ]
  },
  {
   "cell_type": "code",
   "execution_count": 70,
   "metadata": {},
   "outputs": [],
   "source": [
    "X_train_sparse = pd.DataFrame(X_train_sparse, columns = X_column_names)"
   ]
  },
  {
   "cell_type": "code",
   "execution_count": 71,
   "metadata": {},
   "outputs": [],
   "source": [
    "X_test_sparse = pd.DataFrame(X_test_sparse, columns = X_column_names)"
   ]
  },
  {
   "cell_type": "code",
   "execution_count": 72,
   "metadata": {},
   "outputs": [
    {
     "data": {
      "text/plain": [
       "(6046, 338649)"
      ]
     },
     "execution_count": 72,
     "metadata": {},
     "output_type": "execute_result"
    }
   ],
   "source": [
    "X_train_sparse.shape"
   ]
  },
  {
   "cell_type": "code",
   "execution_count": 73,
   "metadata": {},
   "outputs": [
    {
     "data": {
      "text/plain": [
       "(6046, 38)"
      ]
     },
     "execution_count": 73,
     "metadata": {},
     "output_type": "execute_result"
    }
   ],
   "source": [
    "X_train.shape"
   ]
  },
  {
   "cell_type": "markdown",
   "metadata": {},
   "source": [
    "#### filter out the top most popular words"
   ]
  },
  {
   "cell_type": "code",
   "execution_count": 74,
   "metadata": {},
   "outputs": [],
   "source": [
    "X_train_sparse_count = X_train_sparse.sum()"
   ]
  },
  {
   "cell_type": "code",
   "execution_count": 75,
   "metadata": {},
   "outputs": [],
   "source": [
    "X_train_sparse_count = pd.DataFrame(X_train_sparse_count, columns = ['Count'])"
   ]
  },
  {
   "cell_type": "code",
   "execution_count": 76,
   "metadata": {},
   "outputs": [],
   "source": [
    "X_train_sparse_count = X_train_sparse_count[X_train_sparse_count['Count'] > 500]"
   ]
  },
  {
   "cell_type": "code",
   "execution_count": 77,
   "metadata": {},
   "outputs": [],
   "source": [
    "selected_columns = X_train_sparse_count.T.columns.values.tolist()"
   ]
  },
  {
   "cell_type": "code",
   "execution_count": 78,
   "metadata": {},
   "outputs": [],
   "source": [
    "## Only grab the selected columns\n",
    "X_train_sparse = X_train_sparse[selected_columns]\n",
    "X_test_sparse = X_test_sparse[selected_columns]"
   ]
  },
  {
   "cell_type": "markdown",
   "metadata": {},
   "source": [
    "#### Combine the sparse dataframe into the main dataframe"
   ]
  },
  {
   "cell_type": "code",
   "execution_count": 79,
   "metadata": {},
   "outputs": [],
   "source": [
    "X_train.reset_index(drop = True, inplace = True)"
   ]
  },
  {
   "cell_type": "code",
   "execution_count": 80,
   "metadata": {},
   "outputs": [],
   "source": [
    "X_test.reset_index(drop = True, inplace = True)"
   ]
  },
  {
   "cell_type": "code",
   "execution_count": 81,
   "metadata": {},
   "outputs": [],
   "source": [
    "X_train = pd.concat([X_train, X_train_sparse], axis = 1)"
   ]
  },
  {
   "cell_type": "code",
   "execution_count": 82,
   "metadata": {},
   "outputs": [],
   "source": [
    "X_test = pd.concat([X_test, X_test_sparse], axis = 1)"
   ]
  },
  {
   "cell_type": "code",
   "execution_count": 83,
   "metadata": {},
   "outputs": [],
   "source": [
    "X_train.drop(columns = ['stemmed_description'], inplace = True)\n",
    "X_test.drop(columns = ['stemmed_description'], inplace = True)"
   ]
  },
  {
   "cell_type": "markdown",
   "metadata": {},
   "source": [
    "### Perform Feature Selection\n",
    "\n",
    "skipped for now"
   ]
  },
  {
   "cell_type": "code",
   "execution_count": 93,
   "metadata": {},
   "outputs": [],
   "source": [
    "from cLiML.model_prep import feature_select_logistic_reg"
   ]
  },
  {
   "cell_type": "code",
   "execution_count": 95,
   "metadata": {},
   "outputs": [],
   "source": [
    "df_feature = feature_select_logistic_reg(X_train, y_train, cv = 5)"
   ]
  },
  {
   "cell_type": "code",
   "execution_count": 97,
   "metadata": {},
   "outputs": [],
   "source": [
    "df_feature.to_csv('df_feature.csv')"
   ]
  },
  {
   "cell_type": "code",
   "execution_count": 101,
   "metadata": {},
   "outputs": [],
   "source": [
    "RFE = df_feature[df_feature['ranking'] == 1].variable_RFECV.values.tolist()"
   ]
  },
  {
   "cell_type": "code",
   "execution_count": 183,
   "metadata": {},
   "outputs": [],
   "source": [
    "SKB = df_feature[df_feature.score >= 100].variable_skb.values.tolist()"
   ]
  },
  {
   "cell_type": "markdown",
   "metadata": {},
   "source": [
    "### Logistic Regression, Random Forest, Naive Bayes"
   ]
  },
  {
   "cell_type": "code",
   "execution_count": 173,
   "metadata": {},
   "outputs": [
    {
     "data": {
      "application/vnd.jupyter.widget-view+json": {
       "model_id": "e663bd259c8146b6a87e01c55dad081d",
       "version_major": 2,
       "version_minor": 0
      },
      "text/plain": [
       "VBox(children=(HTML(value=''), IntProgress(value=0)))"
      ]
     },
     "metadata": {},
     "output_type": "display_data"
    },
    {
     "ename": "KeyboardInterrupt",
     "evalue": "",
     "output_type": "error",
     "traceback": [
      "\u001b[0;31m---------------------------------------------------------------------------\u001b[0m",
      "\u001b[0;31mKeyboardInterrupt\u001b[0m                         Traceback (most recent call last)",
      "\u001b[0;32m<ipython-input-173-52edaa36d5e5>\u001b[0m in \u001b[0;36m<module>\u001b[0;34m()\u001b[0m\n\u001b[1;32m      7\u001b[0m     \u001b[0mlogistic_reg\u001b[0m \u001b[0;34m=\u001b[0m \u001b[0mLogisticRegression\u001b[0m\u001b[0;34m(\u001b[0m\u001b[0;34m)\u001b[0m\u001b[0;34m\u001b[0m\u001b[0m\n\u001b[1;32m      8\u001b[0m \u001b[0;34m\u001b[0m\u001b[0m\n\u001b[0;32m----> 9\u001b[0;31m     \u001b[0mcv_scores\u001b[0m\u001b[0;34m.\u001b[0m\u001b[0mappend\u001b[0m\u001b[0;34m(\u001b[0m\u001b[0mnp\u001b[0m\u001b[0;34m.\u001b[0m\u001b[0mmean\u001b[0m\u001b[0;34m(\u001b[0m\u001b[0mcross_val_score\u001b[0m\u001b[0;34m(\u001b[0m\u001b[0mlogistic_reg\u001b[0m\u001b[0;34m,\u001b[0m \u001b[0mX_train\u001b[0m\u001b[0;34m[\u001b[0m\u001b[0mcolumns_SKB\u001b[0m\u001b[0;34m]\u001b[0m\u001b[0;34m,\u001b[0m \u001b[0my_train\u001b[0m\u001b[0;34m,\u001b[0m \u001b[0mcv\u001b[0m \u001b[0;34m=\u001b[0m \u001b[0;36m10\u001b[0m\u001b[0;34m)\u001b[0m\u001b[0;34m)\u001b[0m\u001b[0;34m)\u001b[0m\u001b[0;34m\u001b[0m\u001b[0m\n\u001b[0m\u001b[1;32m     10\u001b[0m \u001b[0;34m\u001b[0m\u001b[0m\n\u001b[1;32m     11\u001b[0m \u001b[0;34m\u001b[0m\u001b[0m\n",
      "\u001b[0;32m/anaconda3/lib/python3.6/site-packages/sklearn/model_selection/_validation.py\u001b[0m in \u001b[0;36mcross_val_score\u001b[0;34m(estimator, X, y, groups, scoring, cv, n_jobs, verbose, fit_params, pre_dispatch)\u001b[0m\n\u001b[1;32m    340\u001b[0m                                 \u001b[0mn_jobs\u001b[0m\u001b[0;34m=\u001b[0m\u001b[0mn_jobs\u001b[0m\u001b[0;34m,\u001b[0m \u001b[0mverbose\u001b[0m\u001b[0;34m=\u001b[0m\u001b[0mverbose\u001b[0m\u001b[0;34m,\u001b[0m\u001b[0;34m\u001b[0m\u001b[0m\n\u001b[1;32m    341\u001b[0m                                 \u001b[0mfit_params\u001b[0m\u001b[0;34m=\u001b[0m\u001b[0mfit_params\u001b[0m\u001b[0;34m,\u001b[0m\u001b[0;34m\u001b[0m\u001b[0m\n\u001b[0;32m--> 342\u001b[0;31m                                 pre_dispatch=pre_dispatch)\n\u001b[0m\u001b[1;32m    343\u001b[0m     \u001b[0;32mreturn\u001b[0m \u001b[0mcv_results\u001b[0m\u001b[0;34m[\u001b[0m\u001b[0;34m'test_score'\u001b[0m\u001b[0;34m]\u001b[0m\u001b[0;34m\u001b[0m\u001b[0m\n\u001b[1;32m    344\u001b[0m \u001b[0;34m\u001b[0m\u001b[0m\n",
      "\u001b[0;32m/anaconda3/lib/python3.6/site-packages/sklearn/model_selection/_validation.py\u001b[0m in \u001b[0;36mcross_validate\u001b[0;34m(estimator, X, y, groups, scoring, cv, n_jobs, verbose, fit_params, pre_dispatch, return_train_score)\u001b[0m\n\u001b[1;32m    204\u001b[0m             \u001b[0mfit_params\u001b[0m\u001b[0;34m,\u001b[0m \u001b[0mreturn_train_score\u001b[0m\u001b[0;34m=\u001b[0m\u001b[0mreturn_train_score\u001b[0m\u001b[0;34m,\u001b[0m\u001b[0;34m\u001b[0m\u001b[0m\n\u001b[1;32m    205\u001b[0m             return_times=True)\n\u001b[0;32m--> 206\u001b[0;31m         for train, test in cv.split(X, y, groups))\n\u001b[0m\u001b[1;32m    207\u001b[0m \u001b[0;34m\u001b[0m\u001b[0m\n\u001b[1;32m    208\u001b[0m     \u001b[0;32mif\u001b[0m \u001b[0mreturn_train_score\u001b[0m\u001b[0;34m:\u001b[0m\u001b[0;34m\u001b[0m\u001b[0m\n",
      "\u001b[0;32m/anaconda3/lib/python3.6/site-packages/sklearn/externals/joblib/parallel.py\u001b[0m in \u001b[0;36m__call__\u001b[0;34m(self, iterable)\u001b[0m\n\u001b[1;32m    777\u001b[0m             \u001b[0;31m# was dispatched. In particular this covers the edge\u001b[0m\u001b[0;34m\u001b[0m\u001b[0;34m\u001b[0m\u001b[0m\n\u001b[1;32m    778\u001b[0m             \u001b[0;31m# case of Parallel used with an exhausted iterator.\u001b[0m\u001b[0;34m\u001b[0m\u001b[0;34m\u001b[0m\u001b[0m\n\u001b[0;32m--> 779\u001b[0;31m             \u001b[0;32mwhile\u001b[0m \u001b[0mself\u001b[0m\u001b[0;34m.\u001b[0m\u001b[0mdispatch_one_batch\u001b[0m\u001b[0;34m(\u001b[0m\u001b[0miterator\u001b[0m\u001b[0;34m)\u001b[0m\u001b[0;34m:\u001b[0m\u001b[0;34m\u001b[0m\u001b[0m\n\u001b[0m\u001b[1;32m    780\u001b[0m                 \u001b[0mself\u001b[0m\u001b[0;34m.\u001b[0m\u001b[0m_iterating\u001b[0m \u001b[0;34m=\u001b[0m \u001b[0;32mTrue\u001b[0m\u001b[0;34m\u001b[0m\u001b[0m\n\u001b[1;32m    781\u001b[0m             \u001b[0;32melse\u001b[0m\u001b[0;34m:\u001b[0m\u001b[0;34m\u001b[0m\u001b[0m\n",
      "\u001b[0;32m/anaconda3/lib/python3.6/site-packages/sklearn/externals/joblib/parallel.py\u001b[0m in \u001b[0;36mdispatch_one_batch\u001b[0;34m(self, iterator)\u001b[0m\n\u001b[1;32m    623\u001b[0m                 \u001b[0;32mreturn\u001b[0m \u001b[0;32mFalse\u001b[0m\u001b[0;34m\u001b[0m\u001b[0m\n\u001b[1;32m    624\u001b[0m             \u001b[0;32melse\u001b[0m\u001b[0;34m:\u001b[0m\u001b[0;34m\u001b[0m\u001b[0m\n\u001b[0;32m--> 625\u001b[0;31m                 \u001b[0mself\u001b[0m\u001b[0;34m.\u001b[0m\u001b[0m_dispatch\u001b[0m\u001b[0;34m(\u001b[0m\u001b[0mtasks\u001b[0m\u001b[0;34m)\u001b[0m\u001b[0;34m\u001b[0m\u001b[0m\n\u001b[0m\u001b[1;32m    626\u001b[0m                 \u001b[0;32mreturn\u001b[0m \u001b[0;32mTrue\u001b[0m\u001b[0;34m\u001b[0m\u001b[0m\n\u001b[1;32m    627\u001b[0m \u001b[0;34m\u001b[0m\u001b[0m\n",
      "\u001b[0;32m/anaconda3/lib/python3.6/site-packages/sklearn/externals/joblib/parallel.py\u001b[0m in \u001b[0;36m_dispatch\u001b[0;34m(self, batch)\u001b[0m\n\u001b[1;32m    586\u001b[0m         \u001b[0mdispatch_timestamp\u001b[0m \u001b[0;34m=\u001b[0m \u001b[0mtime\u001b[0m\u001b[0;34m.\u001b[0m\u001b[0mtime\u001b[0m\u001b[0;34m(\u001b[0m\u001b[0;34m)\u001b[0m\u001b[0;34m\u001b[0m\u001b[0m\n\u001b[1;32m    587\u001b[0m         \u001b[0mcb\u001b[0m \u001b[0;34m=\u001b[0m \u001b[0mBatchCompletionCallBack\u001b[0m\u001b[0;34m(\u001b[0m\u001b[0mdispatch_timestamp\u001b[0m\u001b[0;34m,\u001b[0m \u001b[0mlen\u001b[0m\u001b[0;34m(\u001b[0m\u001b[0mbatch\u001b[0m\u001b[0;34m)\u001b[0m\u001b[0;34m,\u001b[0m \u001b[0mself\u001b[0m\u001b[0;34m)\u001b[0m\u001b[0;34m\u001b[0m\u001b[0m\n\u001b[0;32m--> 588\u001b[0;31m         \u001b[0mjob\u001b[0m \u001b[0;34m=\u001b[0m \u001b[0mself\u001b[0m\u001b[0;34m.\u001b[0m\u001b[0m_backend\u001b[0m\u001b[0;34m.\u001b[0m\u001b[0mapply_async\u001b[0m\u001b[0;34m(\u001b[0m\u001b[0mbatch\u001b[0m\u001b[0;34m,\u001b[0m \u001b[0mcallback\u001b[0m\u001b[0;34m=\u001b[0m\u001b[0mcb\u001b[0m\u001b[0;34m)\u001b[0m\u001b[0;34m\u001b[0m\u001b[0m\n\u001b[0m\u001b[1;32m    589\u001b[0m         \u001b[0mself\u001b[0m\u001b[0;34m.\u001b[0m\u001b[0m_jobs\u001b[0m\u001b[0;34m.\u001b[0m\u001b[0mappend\u001b[0m\u001b[0;34m(\u001b[0m\u001b[0mjob\u001b[0m\u001b[0;34m)\u001b[0m\u001b[0;34m\u001b[0m\u001b[0m\n\u001b[1;32m    590\u001b[0m \u001b[0;34m\u001b[0m\u001b[0m\n",
      "\u001b[0;32m/anaconda3/lib/python3.6/site-packages/sklearn/externals/joblib/_parallel_backends.py\u001b[0m in \u001b[0;36mapply_async\u001b[0;34m(self, func, callback)\u001b[0m\n\u001b[1;32m    109\u001b[0m     \u001b[0;32mdef\u001b[0m \u001b[0mapply_async\u001b[0m\u001b[0;34m(\u001b[0m\u001b[0mself\u001b[0m\u001b[0;34m,\u001b[0m \u001b[0mfunc\u001b[0m\u001b[0;34m,\u001b[0m \u001b[0mcallback\u001b[0m\u001b[0;34m=\u001b[0m\u001b[0;32mNone\u001b[0m\u001b[0;34m)\u001b[0m\u001b[0;34m:\u001b[0m\u001b[0;34m\u001b[0m\u001b[0m\n\u001b[1;32m    110\u001b[0m         \u001b[0;34m\"\"\"Schedule a func to be run\"\"\"\u001b[0m\u001b[0;34m\u001b[0m\u001b[0m\n\u001b[0;32m--> 111\u001b[0;31m         \u001b[0mresult\u001b[0m \u001b[0;34m=\u001b[0m \u001b[0mImmediateResult\u001b[0m\u001b[0;34m(\u001b[0m\u001b[0mfunc\u001b[0m\u001b[0;34m)\u001b[0m\u001b[0;34m\u001b[0m\u001b[0m\n\u001b[0m\u001b[1;32m    112\u001b[0m         \u001b[0;32mif\u001b[0m \u001b[0mcallback\u001b[0m\u001b[0;34m:\u001b[0m\u001b[0;34m\u001b[0m\u001b[0m\n\u001b[1;32m    113\u001b[0m             \u001b[0mcallback\u001b[0m\u001b[0;34m(\u001b[0m\u001b[0mresult\u001b[0m\u001b[0;34m)\u001b[0m\u001b[0;34m\u001b[0m\u001b[0m\n",
      "\u001b[0;32m/anaconda3/lib/python3.6/site-packages/sklearn/externals/joblib/_parallel_backends.py\u001b[0m in \u001b[0;36m__init__\u001b[0;34m(self, batch)\u001b[0m\n\u001b[1;32m    330\u001b[0m         \u001b[0;31m# Don't delay the application, to avoid keeping the input\u001b[0m\u001b[0;34m\u001b[0m\u001b[0;34m\u001b[0m\u001b[0m\n\u001b[1;32m    331\u001b[0m         \u001b[0;31m# arguments in memory\u001b[0m\u001b[0;34m\u001b[0m\u001b[0;34m\u001b[0m\u001b[0m\n\u001b[0;32m--> 332\u001b[0;31m         \u001b[0mself\u001b[0m\u001b[0;34m.\u001b[0m\u001b[0mresults\u001b[0m \u001b[0;34m=\u001b[0m \u001b[0mbatch\u001b[0m\u001b[0;34m(\u001b[0m\u001b[0;34m)\u001b[0m\u001b[0;34m\u001b[0m\u001b[0m\n\u001b[0m\u001b[1;32m    333\u001b[0m \u001b[0;34m\u001b[0m\u001b[0m\n\u001b[1;32m    334\u001b[0m     \u001b[0;32mdef\u001b[0m \u001b[0mget\u001b[0m\u001b[0;34m(\u001b[0m\u001b[0mself\u001b[0m\u001b[0;34m)\u001b[0m\u001b[0;34m:\u001b[0m\u001b[0;34m\u001b[0m\u001b[0m\n",
      "\u001b[0;32m/anaconda3/lib/python3.6/site-packages/sklearn/externals/joblib/parallel.py\u001b[0m in \u001b[0;36m__call__\u001b[0;34m(self)\u001b[0m\n\u001b[1;32m    129\u001b[0m \u001b[0;34m\u001b[0m\u001b[0m\n\u001b[1;32m    130\u001b[0m     \u001b[0;32mdef\u001b[0m \u001b[0m__call__\u001b[0m\u001b[0;34m(\u001b[0m\u001b[0mself\u001b[0m\u001b[0;34m)\u001b[0m\u001b[0;34m:\u001b[0m\u001b[0;34m\u001b[0m\u001b[0m\n\u001b[0;32m--> 131\u001b[0;31m         \u001b[0;32mreturn\u001b[0m \u001b[0;34m[\u001b[0m\u001b[0mfunc\u001b[0m\u001b[0;34m(\u001b[0m\u001b[0;34m*\u001b[0m\u001b[0margs\u001b[0m\u001b[0;34m,\u001b[0m \u001b[0;34m**\u001b[0m\u001b[0mkwargs\u001b[0m\u001b[0;34m)\u001b[0m \u001b[0;32mfor\u001b[0m \u001b[0mfunc\u001b[0m\u001b[0;34m,\u001b[0m \u001b[0margs\u001b[0m\u001b[0;34m,\u001b[0m \u001b[0mkwargs\u001b[0m \u001b[0;32min\u001b[0m \u001b[0mself\u001b[0m\u001b[0;34m.\u001b[0m\u001b[0mitems\u001b[0m\u001b[0;34m]\u001b[0m\u001b[0;34m\u001b[0m\u001b[0m\n\u001b[0m\u001b[1;32m    132\u001b[0m \u001b[0;34m\u001b[0m\u001b[0m\n\u001b[1;32m    133\u001b[0m     \u001b[0;32mdef\u001b[0m \u001b[0m__len__\u001b[0m\u001b[0;34m(\u001b[0m\u001b[0mself\u001b[0m\u001b[0;34m)\u001b[0m\u001b[0;34m:\u001b[0m\u001b[0;34m\u001b[0m\u001b[0m\n",
      "\u001b[0;32m/anaconda3/lib/python3.6/site-packages/sklearn/externals/joblib/parallel.py\u001b[0m in \u001b[0;36m<listcomp>\u001b[0;34m(.0)\u001b[0m\n\u001b[1;32m    129\u001b[0m \u001b[0;34m\u001b[0m\u001b[0m\n\u001b[1;32m    130\u001b[0m     \u001b[0;32mdef\u001b[0m \u001b[0m__call__\u001b[0m\u001b[0;34m(\u001b[0m\u001b[0mself\u001b[0m\u001b[0;34m)\u001b[0m\u001b[0;34m:\u001b[0m\u001b[0;34m\u001b[0m\u001b[0m\n\u001b[0;32m--> 131\u001b[0;31m         \u001b[0;32mreturn\u001b[0m \u001b[0;34m[\u001b[0m\u001b[0mfunc\u001b[0m\u001b[0;34m(\u001b[0m\u001b[0;34m*\u001b[0m\u001b[0margs\u001b[0m\u001b[0;34m,\u001b[0m \u001b[0;34m**\u001b[0m\u001b[0mkwargs\u001b[0m\u001b[0;34m)\u001b[0m \u001b[0;32mfor\u001b[0m \u001b[0mfunc\u001b[0m\u001b[0;34m,\u001b[0m \u001b[0margs\u001b[0m\u001b[0;34m,\u001b[0m \u001b[0mkwargs\u001b[0m \u001b[0;32min\u001b[0m \u001b[0mself\u001b[0m\u001b[0;34m.\u001b[0m\u001b[0mitems\u001b[0m\u001b[0;34m]\u001b[0m\u001b[0;34m\u001b[0m\u001b[0m\n\u001b[0m\u001b[1;32m    132\u001b[0m \u001b[0;34m\u001b[0m\u001b[0m\n\u001b[1;32m    133\u001b[0m     \u001b[0;32mdef\u001b[0m \u001b[0m__len__\u001b[0m\u001b[0;34m(\u001b[0m\u001b[0mself\u001b[0m\u001b[0;34m)\u001b[0m\u001b[0;34m:\u001b[0m\u001b[0;34m\u001b[0m\u001b[0m\n",
      "\u001b[0;32m/anaconda3/lib/python3.6/site-packages/sklearn/model_selection/_validation.py\u001b[0m in \u001b[0;36m_fit_and_score\u001b[0;34m(estimator, X, y, scorer, train, test, verbose, parameters, fit_params, return_train_score, return_parameters, return_n_test_samples, return_times, error_score)\u001b[0m\n\u001b[1;32m    456\u001b[0m             \u001b[0mestimator\u001b[0m\u001b[0;34m.\u001b[0m\u001b[0mfit\u001b[0m\u001b[0;34m(\u001b[0m\u001b[0mX_train\u001b[0m\u001b[0;34m,\u001b[0m \u001b[0;34m**\u001b[0m\u001b[0mfit_params\u001b[0m\u001b[0;34m)\u001b[0m\u001b[0;34m\u001b[0m\u001b[0m\n\u001b[1;32m    457\u001b[0m         \u001b[0;32melse\u001b[0m\u001b[0;34m:\u001b[0m\u001b[0;34m\u001b[0m\u001b[0m\n\u001b[0;32m--> 458\u001b[0;31m             \u001b[0mestimator\u001b[0m\u001b[0;34m.\u001b[0m\u001b[0mfit\u001b[0m\u001b[0;34m(\u001b[0m\u001b[0mX_train\u001b[0m\u001b[0;34m,\u001b[0m \u001b[0my_train\u001b[0m\u001b[0;34m,\u001b[0m \u001b[0;34m**\u001b[0m\u001b[0mfit_params\u001b[0m\u001b[0;34m)\u001b[0m\u001b[0;34m\u001b[0m\u001b[0m\n\u001b[0m\u001b[1;32m    459\u001b[0m \u001b[0;34m\u001b[0m\u001b[0m\n\u001b[1;32m    460\u001b[0m     \u001b[0;32mexcept\u001b[0m \u001b[0mException\u001b[0m \u001b[0;32mas\u001b[0m \u001b[0me\u001b[0m\u001b[0;34m:\u001b[0m\u001b[0;34m\u001b[0m\u001b[0m\n",
      "\u001b[0;32m/anaconda3/lib/python3.6/site-packages/sklearn/linear_model/logistic.py\u001b[0m in \u001b[0;36mfit\u001b[0;34m(self, X, y, sample_weight)\u001b[0m\n\u001b[1;32m   1231\u001b[0m                 \u001b[0mself\u001b[0m\u001b[0;34m.\u001b[0m\u001b[0mclass_weight\u001b[0m\u001b[0;34m,\u001b[0m \u001b[0mself\u001b[0m\u001b[0;34m.\u001b[0m\u001b[0mpenalty\u001b[0m\u001b[0;34m,\u001b[0m \u001b[0mself\u001b[0m\u001b[0;34m.\u001b[0m\u001b[0mdual\u001b[0m\u001b[0;34m,\u001b[0m \u001b[0mself\u001b[0m\u001b[0;34m.\u001b[0m\u001b[0mverbose\u001b[0m\u001b[0;34m,\u001b[0m\u001b[0;34m\u001b[0m\u001b[0m\n\u001b[1;32m   1232\u001b[0m                 \u001b[0mself\u001b[0m\u001b[0;34m.\u001b[0m\u001b[0mmax_iter\u001b[0m\u001b[0;34m,\u001b[0m \u001b[0mself\u001b[0m\u001b[0;34m.\u001b[0m\u001b[0mtol\u001b[0m\u001b[0;34m,\u001b[0m \u001b[0mself\u001b[0m\u001b[0;34m.\u001b[0m\u001b[0mrandom_state\u001b[0m\u001b[0;34m,\u001b[0m\u001b[0;34m\u001b[0m\u001b[0m\n\u001b[0;32m-> 1233\u001b[0;31m                 sample_weight=sample_weight)\n\u001b[0m\u001b[1;32m   1234\u001b[0m             \u001b[0mself\u001b[0m\u001b[0;34m.\u001b[0m\u001b[0mn_iter_\u001b[0m \u001b[0;34m=\u001b[0m \u001b[0mnp\u001b[0m\u001b[0;34m.\u001b[0m\u001b[0marray\u001b[0m\u001b[0;34m(\u001b[0m\u001b[0;34m[\u001b[0m\u001b[0mn_iter_\u001b[0m\u001b[0;34m]\u001b[0m\u001b[0;34m)\u001b[0m\u001b[0;34m\u001b[0m\u001b[0m\n\u001b[1;32m   1235\u001b[0m             \u001b[0;32mreturn\u001b[0m \u001b[0mself\u001b[0m\u001b[0;34m\u001b[0m\u001b[0m\n",
      "\u001b[0;32m/anaconda3/lib/python3.6/site-packages/sklearn/svm/base.py\u001b[0m in \u001b[0;36m_fit_liblinear\u001b[0;34m(X, y, C, fit_intercept, intercept_scaling, class_weight, penalty, dual, verbose, max_iter, tol, random_state, multi_class, loss, epsilon, sample_weight)\u001b[0m\n\u001b[1;32m    888\u001b[0m         \u001b[0mX\u001b[0m\u001b[0;34m,\u001b[0m \u001b[0my_ind\u001b[0m\u001b[0;34m,\u001b[0m \u001b[0msp\u001b[0m\u001b[0;34m.\u001b[0m\u001b[0misspmatrix\u001b[0m\u001b[0;34m(\u001b[0m\u001b[0mX\u001b[0m\u001b[0;34m)\u001b[0m\u001b[0;34m,\u001b[0m \u001b[0msolver_type\u001b[0m\u001b[0;34m,\u001b[0m \u001b[0mtol\u001b[0m\u001b[0;34m,\u001b[0m \u001b[0mbias\u001b[0m\u001b[0;34m,\u001b[0m \u001b[0mC\u001b[0m\u001b[0;34m,\u001b[0m\u001b[0;34m\u001b[0m\u001b[0m\n\u001b[1;32m    889\u001b[0m         \u001b[0mclass_weight_\u001b[0m\u001b[0;34m,\u001b[0m \u001b[0mmax_iter\u001b[0m\u001b[0;34m,\u001b[0m \u001b[0mrnd\u001b[0m\u001b[0;34m.\u001b[0m\u001b[0mrandint\u001b[0m\u001b[0;34m(\u001b[0m\u001b[0mnp\u001b[0m\u001b[0;34m.\u001b[0m\u001b[0miinfo\u001b[0m\u001b[0;34m(\u001b[0m\u001b[0;34m'i'\u001b[0m\u001b[0;34m)\u001b[0m\u001b[0;34m.\u001b[0m\u001b[0mmax\u001b[0m\u001b[0;34m)\u001b[0m\u001b[0;34m,\u001b[0m\u001b[0;34m\u001b[0m\u001b[0m\n\u001b[0;32m--> 890\u001b[0;31m         epsilon, sample_weight)\n\u001b[0m\u001b[1;32m    891\u001b[0m     \u001b[0;31m# Regarding rnd.randint(..) in the above signature:\u001b[0m\u001b[0;34m\u001b[0m\u001b[0;34m\u001b[0m\u001b[0m\n\u001b[1;32m    892\u001b[0m     \u001b[0;31m# seed for srand in range [0..INT_MAX); due to limitations in Numpy\u001b[0m\u001b[0;34m\u001b[0m\u001b[0;34m\u001b[0m\u001b[0m\n",
      "\u001b[0;31mKeyboardInterrupt\u001b[0m: "
     ]
    }
   ],
   "source": [
    "from sklearn.model_selection import cross_val_score\n",
    "from sklearn.linear_model import LogisticRegression\n",
    "cv_scores = []\n",
    "for i in log_progress(range(100, 800,7)):\n",
    "    columns_SKB = df_feature[df_feature['score'] >= i]['variable_skb'].values.tolist()\n",
    "    ## perform a simple linear regression on these data and see what happens\n",
    "    logistic_reg = LogisticRegression()\n",
    "    \n",
    "    cv_scores.append(np.mean(cross_val_score(logistic_reg, X_train[columns_SKB], y_train, cv = 10)))\n",
    "\n",
    "\n",
    "print('max score', max(cv_scores))\n",
    "\n",
    "print('rank', cv_scores.index(max(cv_scores))*100 + 1)\n",
    "\n",
    "cv_scores"
   ]
  },
  {
   "cell_type": "code",
   "execution_count": 184,
   "metadata": {},
   "outputs": [],
   "source": [
    "from sklearn.linear_model import LogisticRegression\n",
    "\n",
    "lr = LogisticRegression()\n",
    "lr.fit(X_train[SKB], y_train);"
   ]
  },
  {
   "cell_type": "code",
   "execution_count": 185,
   "metadata": {},
   "outputs": [
    {
     "data": {
      "text/plain": [
       "0.9368177307310619"
      ]
     },
     "execution_count": 185,
     "metadata": {},
     "output_type": "execute_result"
    }
   ],
   "source": [
    "lr.score(X_train[SKB],y_train)"
   ]
  },
  {
   "cell_type": "code",
   "execution_count": 186,
   "metadata": {},
   "outputs": [
    {
     "data": {
      "text/plain": [
       "0.919973544973545"
      ]
     },
     "execution_count": 186,
     "metadata": {},
     "output_type": "execute_result"
    }
   ],
   "source": [
    "lr.score(X_test[SKB], y_test)\n"
   ]
  },
  {
   "cell_type": "code",
   "execution_count": 187,
   "metadata": {},
   "outputs": [
    {
     "name": "stdout",
     "output_type": "stream",
     "text": [
      "[0.91914191 0.9107438  0.92066116 0.91404959 0.91900826 0.92549669\n",
      " 0.92218543 0.9205298  0.9089404  0.90728477]\n",
      "0.916804181020149\n"
     ]
    }
   ],
   "source": [
    "from sklearn.model_selection import cross_val_score\n",
    "LR = LogisticRegression()\n",
    "cv_scores = cross_val_score(LR, X_train[SKB], y_train, cv = 10)\n",
    "print(cv_scores)\n",
    "print(cv_scores.mean())"
   ]
  },
  {
   "cell_type": "code",
   "execution_count": 188,
   "metadata": {},
   "outputs": [
    {
     "data": {
      "text/plain": [
       "508"
      ]
     },
     "execution_count": 188,
     "metadata": {},
     "output_type": "execute_result"
    }
   ],
   "source": [
    "len(RFE)"
   ]
  },
  {
   "cell_type": "code",
   "execution_count": 189,
   "metadata": {},
   "outputs": [
    {
     "data": {
      "image/png": "[encoded data removed]",
      "text/plain": [
       "<Figure size 576x576 with 1 Axes>"
      ]
     },
     "metadata": {
      "image/png": {
       "height": 506,
       "width": 512
      }
     },
     "output_type": "display_data"
    }
   ],
   "source": [
    "from sklearn.metrics import roc_curve, auc\n",
    "fpr, tpr, thresholds = roc_curve(y_train, lr.predict_proba(X_train[SKB])[:,1]) \n",
    "roc_auc = auc(fpr, tpr)\n",
    "\n",
    "plt.figure(figsize=[8,8])\n",
    "plt.plot(fpr, tpr, label='ROC curve (area = %0.2f)' % roc_auc, linewidth=4)\n",
    "plt.plot([0, 1], [0, 1], 'k--', linewidth=4)\n",
    "plt.xlim([-0.05, 1.0])\n",
    "plt.ylim([-0.05, 1.05])\n",
    "plt.xlabel('False Positive Rate', fontsize=18)\n",
    "plt.ylabel('True Positive Rate', fontsize=18)\n",
    "plt.title('Salary Classifier - test', fontsize=18)\n",
    "plt.legend(loc=\"lower right\")\n",
    "plt.show()"
   ]
  },
  {
   "cell_type": "code",
   "execution_count": 190,
   "metadata": {},
   "outputs": [
    {
     "data": {
      "image/png": "[encoded data removed]",
      "text/plain": [
       "<Figure size 576x576 with 1 Axes>"
      ]
     },
     "metadata": {
      "image/png": {
       "height": 506,
       "width": 512
      }
     },
     "output_type": "display_data"
    }
   ],
   "source": [
    "from sklearn.metrics import roc_curve, auc\n",
    "fpr, tpr, thresholds = roc_curve(y_test, lr.predict_proba(X_test[SKB])[:,1]) \n",
    "roc_auc = auc(fpr, tpr)\n",
    "\n",
    "plt.figure(figsize=[8,8])\n",
    "plt.plot(fpr, tpr, label='ROC curve (area = %0.2f)' % roc_auc, linewidth=4)\n",
    "plt.plot([0, 1], [0, 1], 'k--', linewidth=4)\n",
    "plt.xlim([-0.05, 1.0])\n",
    "plt.ylim([-0.05, 1.05])\n",
    "plt.xlabel('False Positive Rate', fontsize=18)\n",
    "plt.ylabel('True Positive Rate', fontsize=18)\n",
    "plt.title('Salary Classifier - test', fontsize=18)\n",
    "plt.legend(loc=\"lower right\")\n",
    "plt.show()"
   ]
  },
  {
   "cell_type": "code",
   "execution_count": null,
   "metadata": {},
   "outputs": [],
   "source": []
  },
  {
   "cell_type": "markdown",
   "metadata": {},
   "source": [
    "### Boosting"
   ]
  },
  {
   "cell_type": "markdown",
   "metadata": {},
   "source": [
    "### Bagging"
   ]
  },
  {
   "cell_type": "code",
   "execution_count": null,
   "metadata": {},
   "outputs": [],
   "source": []
  }
 ],
 "metadata": {
  "kernelspec": {
   "display_name": "Python 3",
   "language": "python",
   "name": "python3"
  },
  "language_info": {
   "codemirror_mode": {
    "name": "ipython",
    "version": 3
   },
   "file_extension": ".py",
   "mimetype": "text/x-python",
   "name": "python",
   "nbconvert_exporter": "python",
   "pygments_lexer": "ipython3",
   "version": "3.6.5"
  }
 },
 "nbformat": 4,
 "nbformat_minor": 2
}
